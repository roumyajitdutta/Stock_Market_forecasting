{
 "cells": [
  {
   "cell_type": "code",
   "execution_count": 14,
   "id": "db929026-5e2d-4d4c-b5c3-0daacd9e550d",
   "metadata": {},
   "outputs": [],
   "source": [
    "import pandas as pd\n"
   ]
  },
  {
   "cell_type": "code",
   "execution_count": 19,
   "id": "21578c2d-f0b7-4809-8811-81b9966b17f7",
   "metadata": {},
   "outputs": [],
   "source": [
    "dzom = pd.read_csv('D:/Roumyajit Dutta/STP in Anaconda/ZOMATO.csv')\n",
    "\n"
   ]
  },
  {
   "cell_type": "code",
   "execution_count": 20,
   "id": "fccacea0-a901-4c83-82d4-e41b6dc6f6da",
   "metadata": {},
   "outputs": [
    {
     "name": "stdout",
     "output_type": "stream",
     "text": [
      "<class 'pandas.core.frame.DataFrame'>\n",
      "RangeIndex: 755 entries, 0 to 754\n",
      "Data columns (total 7 columns):\n",
      " #   Column     Non-Null Count  Dtype  \n",
      "---  ------     --------------  -----  \n",
      " 0   Date       755 non-null    object \n",
      " 1   Open       755 non-null    float64\n",
      " 2   High       755 non-null    float64\n",
      " 3   Low        755 non-null    float64\n",
      " 4   Close      755 non-null    float64\n",
      " 5   Adj Close  755 non-null    float64\n",
      " 6   Volume     755 non-null    int64  \n",
      "dtypes: float64(5), int64(1), object(1)\n",
      "memory usage: 41.4+ KB\n"
     ]
    }
   ],
   "source": [
    "dzom.info()"
   ]
  },
  {
   "cell_type": "code",
   "execution_count": 21,
   "id": "5ef386e5-42ca-4fd4-ae83-c6071a196952",
   "metadata": {},
   "outputs": [],
   "source": [
    "dzom=pd.read_csv('ZOMATO.csv')"
   ]
  },
  {
   "cell_type": "code",
   "execution_count": 81,
   "id": "8190b5ed-4e33-4d45-bd4e-7c8350f6dd8b",
   "metadata": {},
   "outputs": [
    {
     "data": {
      "text/html": [
       "<div>\n",
       "<style scoped>\n",
       "    .dataframe tbody tr th:only-of-type {\n",
       "        vertical-align: middle;\n",
       "    }\n",
       "\n",
       "    .dataframe tbody tr th {\n",
       "        vertical-align: top;\n",
       "    }\n",
       "\n",
       "    .dataframe thead th {\n",
       "        text-align: right;\n",
       "    }\n",
       "</style>\n",
       "<table border=\"1\" class=\"dataframe\">\n",
       "  <thead>\n",
       "    <tr style=\"text-align: right;\">\n",
       "      <th></th>\n",
       "      <th>Date</th>\n",
       "      <th>Open</th>\n",
       "      <th>High</th>\n",
       "      <th>Low</th>\n",
       "      <th>Close</th>\n",
       "      <th>Adj Close</th>\n",
       "      <th>Volume</th>\n",
       "    </tr>\n",
       "  </thead>\n",
       "  <tbody>\n",
       "    <tr>\n",
       "      <th>750</th>\n",
       "      <td>2024-08-07</td>\n",
       "      <td>261.529999</td>\n",
       "      <td>267.600006</td>\n",
       "      <td>251.809998</td>\n",
       "      <td>265.670013</td>\n",
       "      <td>265.670013</td>\n",
       "      <td>127379201</td>\n",
       "    </tr>\n",
       "    <tr>\n",
       "      <th>751</th>\n",
       "      <td>2024-08-08</td>\n",
       "      <td>265.000000</td>\n",
       "      <td>267.500000</td>\n",
       "      <td>260.000000</td>\n",
       "      <td>265.589996</td>\n",
       "      <td>265.589996</td>\n",
       "      <td>57917059</td>\n",
       "    </tr>\n",
       "    <tr>\n",
       "      <th>752</th>\n",
       "      <td>2024-08-09</td>\n",
       "      <td>267.730011</td>\n",
       "      <td>272.899994</td>\n",
       "      <td>265.549988</td>\n",
       "      <td>267.089996</td>\n",
       "      <td>267.089996</td>\n",
       "      <td>52601958</td>\n",
       "    </tr>\n",
       "    <tr>\n",
       "      <th>753</th>\n",
       "      <td>2024-08-12</td>\n",
       "      <td>263.500000</td>\n",
       "      <td>266.489990</td>\n",
       "      <td>261.350006</td>\n",
       "      <td>263.429993</td>\n",
       "      <td>263.429993</td>\n",
       "      <td>33514964</td>\n",
       "    </tr>\n",
       "    <tr>\n",
       "      <th>754</th>\n",
       "      <td>2024-08-13</td>\n",
       "      <td>265.000000</td>\n",
       "      <td>265.399994</td>\n",
       "      <td>256.000000</td>\n",
       "      <td>257.079987</td>\n",
       "      <td>257.079987</td>\n",
       "      <td>26127109</td>\n",
       "    </tr>\n",
       "  </tbody>\n",
       "</table>\n",
       "</div>"
      ],
      "text/plain": [
       "          Date        Open        High         Low       Close   Adj Close  \\\n",
       "750 2024-08-07  261.529999  267.600006  251.809998  265.670013  265.670013   \n",
       "751 2024-08-08  265.000000  267.500000  260.000000  265.589996  265.589996   \n",
       "752 2024-08-09  267.730011  272.899994  265.549988  267.089996  267.089996   \n",
       "753 2024-08-12  263.500000  266.489990  261.350006  263.429993  263.429993   \n",
       "754 2024-08-13  265.000000  265.399994  256.000000  257.079987  257.079987   \n",
       "\n",
       "        Volume  \n",
       "750  127379201  \n",
       "751   57917059  \n",
       "752   52601958  \n",
       "753   33514964  \n",
       "754   26127109  "
      ]
     },
     "execution_count": 81,
     "metadata": {},
     "output_type": "execute_result"
    }
   ],
   "source": [
    "dzom.tail()"
   ]
  },
  {
   "cell_type": "code",
   "execution_count": 65,
   "id": "74947710-8b04-460e-a25a-cf05f6a09fe3",
   "metadata": {},
   "outputs": [],
   "source": [
    "dzom['Date']=pd.to_datetime(dzom['Date'])"
   ]
  },
  {
   "cell_type": "code",
   "execution_count": 60,
   "id": "bd222b3c-16b6-4f1e-a192-e026ae5a7615",
   "metadata": {},
   "outputs": [
    {
     "name": "stdout",
     "output_type": "stream",
     "text": [
      "<class 'pandas.core.frame.DataFrame'>\n",
      "RangeIndex: 755 entries, 0 to 754\n",
      "Data columns (total 7 columns):\n",
      " #   Column     Non-Null Count  Dtype         \n",
      "---  ------     --------------  -----         \n",
      " 0   Date       755 non-null    datetime64[ns]\n",
      " 1   Open       755 non-null    float64       \n",
      " 2   High       755 non-null    float64       \n",
      " 3   Low        755 non-null    float64       \n",
      " 4   Close      755 non-null    float64       \n",
      " 5   Adj Close  755 non-null    float64       \n",
      " 6   Volume     755 non-null    int64         \n",
      "dtypes: datetime64[ns](1), float64(5), int64(1)\n",
      "memory usage: 41.4 KB\n"
     ]
    }
   ],
   "source": [
    "dzom.info()"
   ]
  },
  {
   "cell_type": "code",
   "execution_count": 23,
   "id": "cf444104-6fc6-4141-8182-e55c1a85a9a0",
   "metadata": {},
   "outputs": [],
   "source": [
    "dzom1=dzom.reset_index()['Close']"
   ]
  },
  {
   "cell_type": "code",
   "execution_count": 24,
   "id": "eea28488-c875-4e4a-a123-13ca5f8ada5c",
   "metadata": {},
   "outputs": [
    {
     "data": {
      "text/plain": [
       "(755,)"
      ]
     },
     "execution_count": 24,
     "metadata": {},
     "output_type": "execute_result"
    }
   ],
   "source": [
    "dzom1.shape"
   ]
  },
  {
   "cell_type": "code",
   "execution_count": 26,
   "id": "46d70a2b-9d14-4fb3-a1b2-0c3fa8ee9de6",
   "metadata": {},
   "outputs": [
    {
     "data": {
      "text/plain": [
       "[<matplotlib.lines.Line2D at 0x23da2d12050>]"
      ]
     },
     "execution_count": 26,
     "metadata": {},
     "output_type": "execute_result"
    },
    {
     "data": {
      "image/png": "[encoded data removed]",
      "text/plain": [
       "<Figure size 640x480 with 1 Axes>"
      ]
     },
     "metadata": {},
     "output_type": "display_data"
    }
   ],
   "source": [
    "import matplotlib.pyplot as plt\n",
    "plt.plot(dzom1)"
   ]
  },
  {
   "cell_type": "code",
   "execution_count": 27,
   "id": "eb9553e6-17dd-46ea-9c97-51a0468a0b65",
   "metadata": {},
   "outputs": [],
   "source": [
    "import numpy as np"
   ]
  },
  {
   "cell_type": "code",
   "execution_count": 29,
   "id": "4d4c4371-0ee7-401b-a4e7-43221ae8318a",
   "metadata": {},
   "outputs": [],
   "source": [
    "from sklearn.preprocessing import MinMaxScaler\n",
    "scaler = MinMaxScaler(feature_range=(0,1))\n",
    "dzom1 = scaler.fit_transform(np.array(dzom1).reshape(-1,1))"
   ]
  },
  {
   "cell_type": "code",
   "execution_count": 30,
   "id": "b91a0f09-2815-41aa-a019-2339339e1969",
   "metadata": {},
   "outputs": [
    {
     "data": {
      "text/plain": [
       "(755, 1)"
      ]
     },
     "execution_count": 30,
     "metadata": {},
     "output_type": "execute_result"
    }
   ],
   "source": [
    "dzom1.shape"
   ]
  },
  {
   "cell_type": "code",
   "execution_count": 31,
   "id": "0cfa6cb0-a26e-4d2e-b426-fbd3b1076e8f",
   "metadata": {},
   "outputs": [],
   "source": [
    "training_size=int(len(dzom1)*0.65)\n",
    "test_size=len(dzom1)-training_size\n",
    "train_data,test_data=dzom1[0:training_size,:],dzom1[training_size:len(dzom1),:1]\n"
   ]
  },
  {
   "cell_type": "code",
   "execution_count": 33,
   "id": "c34deeed-b97a-4ecb-90a9-e0c1fafc2292",
   "metadata": {},
   "outputs": [
    {
     "data": {
      "text/plain": [
       "(490, 265)"
      ]
     },
     "execution_count": 33,
     "metadata": {},
     "output_type": "execute_result"
    }
   ],
   "source": [
    "len(train_data),len(test_data)"
   ]
  },
  {
   "cell_type": "code",
   "execution_count": 37,
   "id": "721f6197-f758-4136-9223-84529437feae",
   "metadata": {},
   "outputs": [],
   "source": [
    "def create_dataset(dataset,timestep=1):\n",
    "    dataX,dataY =[] ,[] \n",
    "    for i in range (len(dataset)-timestep-1):\n",
    "        a=dataset[i:(i+timestep),0]\n",
    "        dataX.append(a)\n",
    "        dataY.append(dataset[i+timestep,0])\n",
    "    return np.array(dataX),np.array(dataY)    "
   ]
  },
  {
   "cell_type": "code",
   "execution_count": 38,
   "id": "a50b1b12-e9c4-4ec7-8aab-4592215c1181",
   "metadata": {},
   "outputs": [],
   "source": [
    "timestep=100\n",
    "X_train, Y_train=create_dataset(train_data,timestep)\n",
    "X_test, ytest=create_dataset(test_data,timestep)"
   ]
  },
  {
   "cell_type": "code",
   "execution_count": 39,
   "id": "8ea59d7f-289c-4ee4-9c60-2fb6109a35d3",
   "metadata": {},
   "outputs": [],
   "source": [
    "X_train=X_train.reshape(X_train.shape[0],X_train.shape[1],1)\n",
    "X_test=X_test.reshape(X_test.shape[0],X_test.shape[1],1)"
   ]
  },
  {
   "cell_type": "code",
   "execution_count": 43,
   "id": "3af1d1b0-24da-4961-a3d2-39776f1195eb",
   "metadata": {},
   "outputs": [
    {
     "name": "stdout",
     "output_type": "stream",
     "text": [
      "Requirement already satisfied: tensorflow in c:\\users\\roumy\\anaconda3\\lib\\site-packages (2.17.0)\n",
      "Requirement already satisfied: tensorflow-intel==2.17.0 in c:\\users\\roumy\\anaconda3\\lib\\site-packages (from tensorflow) (2.17.0)\n",
      "Requirement already satisfied: absl-py>=1.0.0 in c:\\users\\roumy\\anaconda3\\lib\\site-packages (from tensorflow-intel==2.17.0->tensorflow) (2.1.0)\n",
      "Requirement already satisfied: astunparse>=1.6.0 in c:\\users\\roumy\\anaconda3\\lib\\site-packages (from tensorflow-intel==2.17.0->tensorflow) (1.6.3)\n",
      "Requirement already satisfied: flatbuffers>=24.3.25 in c:\\users\\roumy\\anaconda3\\lib\\site-packages (from tensorflow-intel==2.17.0->tensorflow) (24.3.25)\n",
      "Requirement already satisfied: gast!=0.5.0,!=0.5.1,!=0.5.2,>=0.2.1 in c:\\users\\roumy\\anaconda3\\lib\\site-packages (from tensorflow-intel==2.17.0->tensorflow) (0.6.0)\n",
      "Requirement already satisfied: google-pasta>=0.1.1 in c:\\users\\roumy\\anaconda3\\lib\\site-packages (from tensorflow-intel==2.17.0->tensorflow) (0.2.0)\n",
      "Requirement already satisfied: h5py>=3.10.0 in c:\\users\\roumy\\anaconda3\\lib\\site-packages (from tensorflow-intel==2.17.0->tensorflow) (3.11.0)\n",
      "Requirement already satisfied: libclang>=13.0.0 in c:\\users\\roumy\\anaconda3\\lib\\site-packages (from tensorflow-intel==2.17.0->tensorflow) (18.1.1)\n",
      "Requirement already satisfied: ml-dtypes<0.5.0,>=0.3.1 in c:\\users\\roumy\\anaconda3\\lib\\site-packages (from tensorflow-intel==2.17.0->tensorflow) (0.4.0)\n",
      "Requirement already satisfied: opt-einsum>=2.3.2 in c:\\users\\roumy\\anaconda3\\lib\\site-packages (from tensorflow-intel==2.17.0->tensorflow) (3.3.0)\n",
      "Requirement already satisfied: packaging in c:\\users\\roumy\\anaconda3\\lib\\site-packages (from tensorflow-intel==2.17.0->tensorflow) (23.1)\n",
      "Requirement already satisfied: protobuf!=4.21.0,!=4.21.1,!=4.21.2,!=4.21.3,!=4.21.4,!=4.21.5,<5.0.0dev,>=3.20.3 in c:\\users\\roumy\\anaconda3\\lib\\site-packages (from tensorflow-intel==2.17.0->tensorflow) (3.20.3)\n",
      "Requirement already satisfied: requests<3,>=2.21.0 in c:\\users\\roumy\\anaconda3\\lib\\site-packages (from tensorflow-intel==2.17.0->tensorflow) (2.31.0)\n",
      "Requirement already satisfied: setuptools in c:\\users\\roumy\\anaconda3\\lib\\site-packages (from tensorflow-intel==2.17.0->tensorflow) (68.2.2)\n",
      "Requirement already satisfied: six>=1.12.0 in c:\\users\\roumy\\anaconda3\\lib\\site-packages (from tensorflow-intel==2.17.0->tensorflow) (1.16.0)\n",
      "Requirement already satisfied: termcolor>=1.1.0 in c:\\users\\roumy\\anaconda3\\lib\\site-packages (from tensorflow-intel==2.17.0->tensorflow) (2.4.0)\n",
      "Requirement already satisfied: typing-extensions>=3.6.6 in c:\\users\\roumy\\anaconda3\\lib\\site-packages (from tensorflow-intel==2.17.0->tensorflow) (4.9.0)\n",
      "Requirement already satisfied: wrapt>=1.11.0 in c:\\users\\roumy\\anaconda3\\lib\\site-packages (from tensorflow-intel==2.17.0->tensorflow) (1.14.1)\n",
      "Requirement already satisfied: grpcio<2.0,>=1.24.3 in c:\\users\\roumy\\anaconda3\\lib\\site-packages (from tensorflow-intel==2.17.0->tensorflow) (1.65.4)\n",
      "Requirement already satisfied: tensorboard<2.18,>=2.17 in c:\\users\\roumy\\anaconda3\\lib\\site-packages (from tensorflow-intel==2.17.0->tensorflow) (2.17.0)\n",
      "Requirement already satisfied: keras>=3.2.0 in c:\\users\\roumy\\anaconda3\\lib\\site-packages (from tensorflow-intel==2.17.0->tensorflow) (3.5.0)\n",
      "Requirement already satisfied: tensorflow-io-gcs-filesystem>=0.23.1 in c:\\users\\roumy\\anaconda3\\lib\\site-packages (from tensorflow-intel==2.17.0->tensorflow) (0.31.0)\n",
      "Requirement already satisfied: numpy<2.0.0,>=1.23.5 in c:\\users\\roumy\\anaconda3\\lib\\site-packages (from tensorflow-intel==2.17.0->tensorflow) (1.26.4)\n",
      "Requirement already satisfied: wheel<1.0,>=0.23.0 in c:\\users\\roumy\\anaconda3\\lib\\site-packages (from astunparse>=1.6.0->tensorflow-intel==2.17.0->tensorflow) (0.41.2)\n",
      "Requirement already satisfied: rich in c:\\users\\roumy\\anaconda3\\lib\\site-packages (from keras>=3.2.0->tensorflow-intel==2.17.0->tensorflow) (13.3.5)\n",
      "Requirement already satisfied: namex in c:\\users\\roumy\\anaconda3\\lib\\site-packages (from keras>=3.2.0->tensorflow-intel==2.17.0->tensorflow) (0.0.8)\n",
      "Requirement already satisfied: optree in c:\\users\\roumy\\anaconda3\\lib\\site-packages (from keras>=3.2.0->tensorflow-intel==2.17.0->tensorflow) (0.12.1)\n",
      "Requirement already satisfied: charset-normalizer<4,>=2 in c:\\users\\roumy\\anaconda3\\lib\\site-packages (from requests<3,>=2.21.0->tensorflow-intel==2.17.0->tensorflow) (2.0.4)\n",
      "Requirement already satisfied: idna<4,>=2.5 in c:\\users\\roumy\\anaconda3\\lib\\site-packages (from requests<3,>=2.21.0->tensorflow-intel==2.17.0->tensorflow) (3.4)\n",
      "Requirement already satisfied: urllib3<3,>=1.21.1 in c:\\users\\roumy\\anaconda3\\lib\\site-packages (from requests<3,>=2.21.0->tensorflow-intel==2.17.0->tensorflow) (2.0.7)\n",
      "Requirement already satisfied: certifi>=2017.4.17 in c:\\users\\roumy\\anaconda3\\lib\\site-packages (from requests<3,>=2.21.0->tensorflow-intel==2.17.0->tensorflow) (2024.2.2)\n",
      "Requirement already satisfied: markdown>=2.6.8 in c:\\users\\roumy\\anaconda3\\lib\\site-packages (from tensorboard<2.18,>=2.17->tensorflow-intel==2.17.0->tensorflow) (3.4.1)\n",
      "Requirement already satisfied: tensorboard-data-server<0.8.0,>=0.7.0 in c:\\users\\roumy\\anaconda3\\lib\\site-packages (from tensorboard<2.18,>=2.17->tensorflow-intel==2.17.0->tensorflow) (0.7.2)\n",
      "Requirement already satisfied: werkzeug>=1.0.1 in c:\\users\\roumy\\anaconda3\\lib\\site-packages (from tensorboard<2.18,>=2.17->tensorflow-intel==2.17.0->tensorflow) (2.2.3)\n",
      "Requirement already satisfied: MarkupSafe>=2.1.1 in c:\\users\\roumy\\anaconda3\\lib\\site-packages (from werkzeug>=1.0.1->tensorboard<2.18,>=2.17->tensorflow-intel==2.17.0->tensorflow) (2.1.3)\n",
      "Requirement already satisfied: markdown-it-py<3.0.0,>=2.2.0 in c:\\users\\roumy\\anaconda3\\lib\\site-packages (from rich->keras>=3.2.0->tensorflow-intel==2.17.0->tensorflow) (2.2.0)\n",
      "Requirement already satisfied: pygments<3.0.0,>=2.13.0 in c:\\users\\roumy\\anaconda3\\lib\\site-packages (from rich->keras>=3.2.0->tensorflow-intel==2.17.0->tensorflow) (2.15.1)\n",
      "Requirement already satisfied: mdurl~=0.1 in c:\\users\\roumy\\anaconda3\\lib\\site-packages (from markdown-it-py<3.0.0,>=2.2.0->rich->keras>=3.2.0->tensorflow-intel==2.17.0->tensorflow) (0.1.0)\n"
     ]
    }
   ],
   "source": [
    "!pip install tensorflow\n",
    "\n",
    "\n"
   ]
  },
  {
   "cell_type": "code",
   "execution_count": 44,
   "id": "4439537d-f257-4117-a1e5-b142a33e3503",
   "metadata": {},
   "outputs": [],
   "source": [
    "from tensorflow.keras.models import Sequential\n",
    "from tensorflow.keras.layers import Dense\n",
    "from tensorflow.keras.layers import LSTM"
   ]
  },
  {
   "cell_type": "code",
   "execution_count": 45,
   "id": "8135aff5-78dd-4344-954c-26a32cb69bc9",
   "metadata": {},
   "outputs": [
    {
     "name": "stderr",
     "output_type": "stream",
     "text": [
      "C:\\Users\\roumy\\anaconda3\\Lib\\site-packages\\keras\\src\\layers\\rnn\\rnn.py:204: UserWarning: Do not pass an `input_shape`/`input_dim` argument to a layer. When using Sequential models, prefer using an `Input(shape)` object as the first layer in the model instead.\n",
      "  super().__init__(**kwargs)\n"
     ]
    }
   ],
   "source": [
    "model=Sequential()\n",
    "model.add(LSTM(50,return_sequences=True,input_shape=(100,1)))\n",
    "model.add(LSTM(50,return_sequences=True))\n",
    "model.add(LSTM(50))\n",
    "model.add(Dense(1))\n",
    "model.compile(loss='mean_squared_error',optimizer='adam')"
   ]
  },
  {
   "cell_type": "code",
   "execution_count": 46,
   "id": "ac2494db-4b30-49f7-9010-a9325bcfd9b7",
   "metadata": {},
   "outputs": [
    {
     "data": {
      "text/html": [
       "<pre style=\"white-space:pre;overflow-x:auto;line-height:normal;font-family:Menlo,'DejaVu Sans Mono',consolas,'Courier New',monospace\"><span style=\"font-weight: bold\">Model: \"sequential\"</span>\n",
       "</pre>\n"
      ],
      "text/plain": [
       "\u001b[1mModel: \"sequential\"\u001b[0m\n"
      ]
     },
     "metadata": {},
     "output_type": "display_data"
    },
    {
     "data": {
      "text/html": [
       "<pre style=\"white-space:pre;overflow-x:auto;line-height:normal;font-family:Menlo,'DejaVu Sans Mono',consolas,'Courier New',monospace\">┏━━━━━━━━━━━━━━━━━━━━━━━━━━━━━━━━━┳━━━━━━━━━━━━━━━━━━━━━━━━┳━━━━━━━━━━━━━━━┓\n",
       "┃<span style=\"font-weight: bold\"> Layer (type)                    </span>┃<span style=\"font-weight: bold\"> Output Shape           </span>┃<span style=\"font-weight: bold\">       Param # </span>┃\n",
       "┡━━━━━━━━━━━━━━━━━━━━━━━━━━━━━━━━━╇━━━━━━━━━━━━━━━━━━━━━━━━╇━━━━━━━━━━━━━━━┩\n",
       "│ lstm (<span style=\"color: #0087ff; text-decoration-color: #0087ff\">LSTM</span>)                     │ (<span style=\"color: #00d7ff; text-decoration-color: #00d7ff\">None</span>, <span style=\"color: #00af00; text-decoration-color: #00af00\">100</span>, <span style=\"color: #00af00; text-decoration-color: #00af00\">50</span>)        │        <span style=\"color: #00af00; text-decoration-color: #00af00\">10,400</span> │\n",
       "├─────────────────────────────────┼────────────────────────┼───────────────┤\n",
       "│ lstm_1 (<span style=\"color: #0087ff; text-decoration-color: #0087ff\">LSTM</span>)                   │ (<span style=\"color: #00d7ff; text-decoration-color: #00d7ff\">None</span>, <span style=\"color: #00af00; text-decoration-color: #00af00\">100</span>, <span style=\"color: #00af00; text-decoration-color: #00af00\">50</span>)        │        <span style=\"color: #00af00; text-decoration-color: #00af00\">20,200</span> │\n",
       "├─────────────────────────────────┼────────────────────────┼───────────────┤\n",
       "│ lstm_2 (<span style=\"color: #0087ff; text-decoration-color: #0087ff\">LSTM</span>)                   │ (<span style=\"color: #00d7ff; text-decoration-color: #00d7ff\">None</span>, <span style=\"color: #00af00; text-decoration-color: #00af00\">50</span>)             │        <span style=\"color: #00af00; text-decoration-color: #00af00\">20,200</span> │\n",
       "├─────────────────────────────────┼────────────────────────┼───────────────┤\n",
       "│ dense (<span style=\"color: #0087ff; text-decoration-color: #0087ff\">Dense</span>)                   │ (<span style=\"color: #00d7ff; text-decoration-color: #00d7ff\">None</span>, <span style=\"color: #00af00; text-decoration-color: #00af00\">1</span>)              │            <span style=\"color: #00af00; text-decoration-color: #00af00\">51</span> │\n",
       "└─────────────────────────────────┴────────────────────────┴───────────────┘\n",
       "</pre>\n"
      ],
      "text/plain": [
       "┏━━━━━━━━━━━━━━━━━━━━━━━━━━━━━━━━━┳━━━━━━━━━━━━━━━━━━━━━━━━┳━━━━━━━━━━━━━━━┓\n",
       "┃\u001b[1m \u001b[0m\u001b[1mLayer (type)                   \u001b[0m\u001b[1m \u001b[0m┃\u001b[1m \u001b[0m\u001b[1mOutput Shape          \u001b[0m\u001b[1m \u001b[0m┃\u001b[1m \u001b[0m\u001b[1m      Param #\u001b[0m\u001b[1m \u001b[0m┃\n",
       "┡━━━━━━━━━━━━━━━━━━━━━━━━━━━━━━━━━╇━━━━━━━━━━━━━━━━━━━━━━━━╇━━━━━━━━━━━━━━━┩\n",
       "│ lstm (\u001b[38;5;33mLSTM\u001b[0m)                     │ (\u001b[38;5;45mNone\u001b[0m, \u001b[38;5;34m100\u001b[0m, \u001b[38;5;34m50\u001b[0m)        │        \u001b[38;5;34m10,400\u001b[0m │\n",
       "├─────────────────────────────────┼────────────────────────┼───────────────┤\n",
       "│ lstm_1 (\u001b[38;5;33mLSTM\u001b[0m)                   │ (\u001b[38;5;45mNone\u001b[0m, \u001b[38;5;34m100\u001b[0m, \u001b[38;5;34m50\u001b[0m)        │        \u001b[38;5;34m20,200\u001b[0m │\n",
       "├─────────────────────────────────┼────────────────────────┼───────────────┤\n",
       "│ lstm_2 (\u001b[38;5;33mLSTM\u001b[0m)                   │ (\u001b[38;5;45mNone\u001b[0m, \u001b[38;5;34m50\u001b[0m)             │        \u001b[38;5;34m20,200\u001b[0m │\n",
       "├─────────────────────────────────┼────────────────────────┼───────────────┤\n",
       "│ dense (\u001b[38;5;33mDense\u001b[0m)                   │ (\u001b[38;5;45mNone\u001b[0m, \u001b[38;5;34m1\u001b[0m)              │            \u001b[38;5;34m51\u001b[0m │\n",
       "└─────────────────────────────────┴────────────────────────┴───────────────┘\n"
      ]
     },
     "metadata": {},
     "output_type": "display_data"
    },
    {
     "data": {
      "text/html": [
       "<pre style=\"white-space:pre;overflow-x:auto;line-height:normal;font-family:Menlo,'DejaVu Sans Mono',consolas,'Courier New',monospace\"><span style=\"font-weight: bold\"> Total params: </span><span style=\"color: #00af00; text-decoration-color: #00af00\">50,851</span> (198.64 KB)\n",
       "</pre>\n"
      ],
      "text/plain": [
       "\u001b[1m Total params: \u001b[0m\u001b[38;5;34m50,851\u001b[0m (198.64 KB)\n"
      ]
     },
     "metadata": {},
     "output_type": "display_data"
    },
    {
     "data": {
      "text/html": [
       "<pre style=\"white-space:pre;overflow-x:auto;line-height:normal;font-family:Menlo,'DejaVu Sans Mono',consolas,'Courier New',monospace\"><span style=\"font-weight: bold\"> Trainable params: </span><span style=\"color: #00af00; text-decoration-color: #00af00\">50,851</span> (198.64 KB)\n",
       "</pre>\n"
      ],
      "text/plain": [
       "\u001b[1m Trainable params: \u001b[0m\u001b[38;5;34m50,851\u001b[0m (198.64 KB)\n"
      ]
     },
     "metadata": {},
     "output_type": "display_data"
    },
    {
     "data": {
      "text/html": [
       "<pre style=\"white-space:pre;overflow-x:auto;line-height:normal;font-family:Menlo,'DejaVu Sans Mono',consolas,'Courier New',monospace\"><span style=\"font-weight: bold\"> Non-trainable params: </span><span style=\"color: #00af00; text-decoration-color: #00af00\">0</span> (0.00 B)\n",
       "</pre>\n"
      ],
      "text/plain": [
       "\u001b[1m Non-trainable params: \u001b[0m\u001b[38;5;34m0\u001b[0m (0.00 B)\n"
      ]
     },
     "metadata": {},
     "output_type": "display_data"
    }
   ],
   "source": [
    "model.summary()"
   ]
  },
  {
   "cell_type": "code",
   "execution_count": 47,
   "id": "c601301f-fe81-4f48-a0ca-5779e4c55926",
   "metadata": {},
   "outputs": [
    {
     "name": "stdout",
     "output_type": "stream",
     "text": [
      "Epoch 1/100\n",
      "\u001b[1m7/7\u001b[0m \u001b[32m━━━━━━━━━━━━━━━━━━━━\u001b[0m\u001b[37m\u001b[0m \u001b[1m23s\u001b[0m 961ms/step - loss: 0.0126 - val_loss: 0.0687\n",
      "Epoch 2/100\n",
      "\u001b[1m7/7\u001b[0m \u001b[32m━━━━━━━━━━━━━━━━━━━━\u001b[0m\u001b[37m\u001b[0m \u001b[1m6s\u001b[0m 321ms/step - loss: 0.0026 - val_loss: 0.1008\n",
      "Epoch 3/100\n",
      "\u001b[1m7/7\u001b[0m \u001b[32m━━━━━━━━━━━━━━━━━━━━\u001b[0m\u001b[37m\u001b[0m \u001b[1m3s\u001b[0m 400ms/step - loss: 0.0020 - val_loss: 0.0184\n",
      "Epoch 4/100\n",
      "\u001b[1m7/7\u001b[0m \u001b[32m━━━━━━━━━━━━━━━━━━━━\u001b[0m\u001b[37m\u001b[0m \u001b[1m3s\u001b[0m 504ms/step - loss: 0.0018 - val_loss: 0.0311\n",
      "Epoch 5/100\n",
      "\u001b[1m7/7\u001b[0m \u001b[32m━━━━━━━━━━━━━━━━━━━━\u001b[0m\u001b[37m\u001b[0m \u001b[1m2s\u001b[0m 322ms/step - loss: 0.0013 - val_loss: 0.0112\n",
      "Epoch 6/100\n",
      "\u001b[1m7/7\u001b[0m \u001b[32m━━━━━━━━━━━━━━━━━━━━\u001b[0m\u001b[37m\u001b[0m \u001b[1m2s\u001b[0m 275ms/step - loss: 0.0011 - val_loss: 0.0282\n",
      "Epoch 7/100\n",
      "\u001b[1m7/7\u001b[0m \u001b[32m━━━━━━━━━━━━━━━━━━━━\u001b[0m\u001b[37m\u001b[0m \u001b[1m2s\u001b[0m 300ms/step - loss: 9.7609e-04 - val_loss: 0.0203\n",
      "Epoch 8/100\n",
      "\u001b[1m7/7\u001b[0m \u001b[32m━━━━━━━━━━━━━━━━━━━━\u001b[0m\u001b[37m\u001b[0m \u001b[1m2s\u001b[0m 289ms/step - loss: 0.0010 - val_loss: 0.0187\n",
      "Epoch 9/100\n",
      "\u001b[1m7/7\u001b[0m \u001b[32m━━━━━━━━━━━━━━━━━━━━\u001b[0m\u001b[37m\u001b[0m \u001b[1m3s\u001b[0m 293ms/step - loss: 8.7251e-04 - val_loss: 0.0133\n",
      "Epoch 10/100\n",
      "\u001b[1m7/7\u001b[0m \u001b[32m━━━━━━━━━━━━━━━━━━━━\u001b[0m\u001b[37m\u001b[0m \u001b[1m2s\u001b[0m 306ms/step - loss: 9.5194e-04 - val_loss: 0.0137\n",
      "Epoch 11/100\n",
      "\u001b[1m7/7\u001b[0m \u001b[32m━━━━━━━━━━━━━━━━━━━━\u001b[0m\u001b[37m\u001b[0m \u001b[1m2s\u001b[0m 309ms/step - loss: 8.8940e-04 - val_loss: 0.0133\n",
      "Epoch 12/100\n",
      "\u001b[1m7/7\u001b[0m \u001b[32m━━━━━━━━━━━━━━━━━━━━\u001b[0m\u001b[37m\u001b[0m \u001b[1m2s\u001b[0m 298ms/step - loss: 9.1980e-04 - val_loss: 0.0103\n",
      "Epoch 13/100\n",
      "\u001b[1m7/7\u001b[0m \u001b[32m━━━━━━━━━━━━━━━━━━━━\u001b[0m\u001b[37m\u001b[0m \u001b[1m2s\u001b[0m 282ms/step - loss: 8.5441e-04 - val_loss: 0.0145\n",
      "Epoch 14/100\n",
      "\u001b[1m7/7\u001b[0m \u001b[32m━━━━━━━━━━━━━━━━━━━━\u001b[0m\u001b[37m\u001b[0m \u001b[1m3s\u001b[0m 266ms/step - loss: 7.9350e-04 - val_loss: 0.0098\n",
      "Epoch 15/100\n",
      "\u001b[1m7/7\u001b[0m \u001b[32m━━━━━━━━━━━━━━━━━━━━\u001b[0m\u001b[37m\u001b[0m \u001b[1m2s\u001b[0m 285ms/step - loss: 9.0187e-04 - val_loss: 0.0156\n",
      "Epoch 16/100\n",
      "\u001b[1m7/7\u001b[0m \u001b[32m━━━━━━━━━━━━━━━━━━━━\u001b[0m\u001b[37m\u001b[0m \u001b[1m2s\u001b[0m 280ms/step - loss: 9.7700e-04 - val_loss: 0.0050\n",
      "Epoch 17/100\n",
      "\u001b[1m7/7\u001b[0m \u001b[32m━━━━━━━━━━━━━━━━━━━━\u001b[0m\u001b[37m\u001b[0m \u001b[1m2s\u001b[0m 289ms/step - loss: 7.4407e-04 - val_loss: 0.0124\n",
      "Epoch 18/100\n",
      "\u001b[1m7/7\u001b[0m \u001b[32m━━━━━━━━━━━━━━━━━━━━\u001b[0m\u001b[37m\u001b[0m \u001b[1m2s\u001b[0m 288ms/step - loss: 8.9047e-04 - val_loss: 0.0036\n",
      "Epoch 19/100\n",
      "\u001b[1m7/7\u001b[0m \u001b[32m━━━━━━━━━━━━━━━━━━━━\u001b[0m\u001b[37m\u001b[0m \u001b[1m2s\u001b[0m 280ms/step - loss: 8.0190e-04 - val_loss: 0.0053\n",
      "Epoch 20/100\n",
      "\u001b[1m7/7\u001b[0m \u001b[32m━━━━━━━━━━━━━━━━━━━━\u001b[0m\u001b[37m\u001b[0m \u001b[1m2s\u001b[0m 272ms/step - loss: 7.4680e-04 - val_loss: 0.0110\n",
      "Epoch 21/100\n",
      "\u001b[1m7/7\u001b[0m \u001b[32m━━━━━━━━━━━━━━━━━━━━\u001b[0m\u001b[37m\u001b[0m \u001b[1m2s\u001b[0m 274ms/step - loss: 8.6914e-04 - val_loss: 0.0022\n",
      "Epoch 22/100\n",
      "\u001b[1m7/7\u001b[0m \u001b[32m━━━━━━━━━━━━━━━━━━━━\u001b[0m\u001b[37m\u001b[0m \u001b[1m2s\u001b[0m 289ms/step - loss: 8.0174e-04 - val_loss: 0.0077\n",
      "Epoch 23/100\n",
      "\u001b[1m7/7\u001b[0m \u001b[32m━━━━━━━━━━━━━━━━━━━━\u001b[0m\u001b[37m\u001b[0m \u001b[1m2s\u001b[0m 267ms/step - loss: 7.5104e-04 - val_loss: 0.0143\n",
      "Epoch 24/100\n",
      "\u001b[1m7/7\u001b[0m \u001b[32m━━━━━━━━━━━━━━━━━━━━\u001b[0m\u001b[37m\u001b[0m \u001b[1m3s\u001b[0m 281ms/step - loss: 0.0011 - val_loss: 0.0066\n",
      "Epoch 25/100\n",
      "\u001b[1m7/7\u001b[0m \u001b[32m━━━━━━━━━━━━━━━━━━━━\u001b[0m\u001b[37m\u001b[0m \u001b[1m2s\u001b[0m 291ms/step - loss: 0.0010 - val_loss: 0.0140\n",
      "Epoch 26/100\n",
      "\u001b[1m7/7\u001b[0m \u001b[32m━━━━━━━━━━━━━━━━━━━━\u001b[0m\u001b[37m\u001b[0m \u001b[1m2s\u001b[0m 289ms/step - loss: 9.3696e-04 - val_loss: 0.0028\n",
      "Epoch 27/100\n",
      "\u001b[1m7/7\u001b[0m \u001b[32m━━━━━━━━━━━━━━━━━━━━\u001b[0m\u001b[37m\u001b[0m \u001b[1m2s\u001b[0m 294ms/step - loss: 8.9963e-04 - val_loss: 0.0098\n",
      "Epoch 28/100\n",
      "\u001b[1m7/7\u001b[0m \u001b[32m━━━━━━━━━━━━━━━━━━━━\u001b[0m\u001b[37m\u001b[0m \u001b[1m2s\u001b[0m 291ms/step - loss: 8.2578e-04 - val_loss: 0.0040\n",
      "Epoch 29/100\n",
      "\u001b[1m7/7\u001b[0m \u001b[32m━━━━━━━━━━━━━━━━━━━━\u001b[0m\u001b[37m\u001b[0m \u001b[1m2s\u001b[0m 272ms/step - loss: 8.2008e-04 - val_loss: 0.0144\n",
      "Epoch 30/100\n",
      "\u001b[1m7/7\u001b[0m \u001b[32m━━━━━━━━━━━━━━━━━━━━\u001b[0m\u001b[37m\u001b[0m \u001b[1m2s\u001b[0m 272ms/step - loss: 9.5314e-04 - val_loss: 0.0018\n",
      "Epoch 31/100\n",
      "\u001b[1m7/7\u001b[0m \u001b[32m━━━━━━━━━━━━━━━━━━━━\u001b[0m\u001b[37m\u001b[0m \u001b[1m2s\u001b[0m 263ms/step - loss: 7.9353e-04 - val_loss: 0.0085\n",
      "Epoch 32/100\n",
      "\u001b[1m7/7\u001b[0m \u001b[32m━━━━━━━━━━━━━━━━━━━━\u001b[0m\u001b[37m\u001b[0m \u001b[1m2s\u001b[0m 272ms/step - loss: 6.6961e-04 - val_loss: 0.0027\n",
      "Epoch 33/100\n",
      "\u001b[1m7/7\u001b[0m \u001b[32m━━━━━━━━━━━━━━━━━━━━\u001b[0m\u001b[37m\u001b[0m \u001b[1m2s\u001b[0m 279ms/step - loss: 5.9523e-04 - val_loss: 0.0044\n",
      "Epoch 34/100\n",
      "\u001b[1m7/7\u001b[0m \u001b[32m━━━━━━━━━━━━━━━━━━━━\u001b[0m\u001b[37m\u001b[0m \u001b[1m2s\u001b[0m 290ms/step - loss: 7.1108e-04 - val_loss: 0.0039\n",
      "Epoch 35/100\n",
      "\u001b[1m7/7\u001b[0m \u001b[32m━━━━━━━━━━━━━━━━━━━━\u001b[0m\u001b[37m\u001b[0m \u001b[1m3s\u001b[0m 267ms/step - loss: 6.7234e-04 - val_loss: 0.0018\n",
      "Epoch 36/100\n",
      "\u001b[1m7/7\u001b[0m \u001b[32m━━━━━━━━━━━━━━━━━━━━\u001b[0m\u001b[37m\u001b[0m \u001b[1m3s\u001b[0m 260ms/step - loss: 6.6904e-04 - val_loss: 0.0018\n",
      "Epoch 37/100\n",
      "\u001b[1m7/7\u001b[0m \u001b[32m━━━━━━━━━━━━━━━━━━━━\u001b[0m\u001b[37m\u001b[0m \u001b[1m2s\u001b[0m 262ms/step - loss: 7.3547e-04 - val_loss: 0.0067\n",
      "Epoch 38/100\n",
      "\u001b[1m7/7\u001b[0m \u001b[32m━━━━━━━━━━━━━━━━━━━━\u001b[0m\u001b[37m\u001b[0m \u001b[1m2s\u001b[0m 273ms/step - loss: 0.0010 - val_loss: 0.0034\n",
      "Epoch 39/100\n",
      "\u001b[1m7/7\u001b[0m \u001b[32m━━━━━━━━━━━━━━━━━━━━\u001b[0m\u001b[37m\u001b[0m \u001b[1m3s\u001b[0m 288ms/step - loss: 9.0713e-04 - val_loss: 0.0098\n",
      "Epoch 40/100\n",
      "\u001b[1m7/7\u001b[0m \u001b[32m━━━━━━━━━━━━━━━━━━━━\u001b[0m\u001b[37m\u001b[0m \u001b[1m2s\u001b[0m 282ms/step - loss: 7.1629e-04 - val_loss: 0.0016\n",
      "Epoch 41/100\n",
      "\u001b[1m7/7\u001b[0m \u001b[32m━━━━━━━━━━━━━━━━━━━━\u001b[0m\u001b[37m\u001b[0m \u001b[1m3s\u001b[0m 283ms/step - loss: 5.9136e-04 - val_loss: 0.0034\n",
      "Epoch 42/100\n",
      "\u001b[1m7/7\u001b[0m \u001b[32m━━━━━━━━━━━━━━━━━━━━\u001b[0m\u001b[37m\u001b[0m \u001b[1m3s\u001b[0m 295ms/step - loss: 7.1579e-04 - val_loss: 0.0018\n",
      "Epoch 43/100\n",
      "\u001b[1m7/7\u001b[0m \u001b[32m━━━━━━━━━━━━━━━━━━━━\u001b[0m\u001b[37m\u001b[0m \u001b[1m2s\u001b[0m 275ms/step - loss: 6.2203e-04 - val_loss: 0.0061\n",
      "Epoch 44/100\n",
      "\u001b[1m7/7\u001b[0m \u001b[32m━━━━━━━━━━━━━━━━━━━━\u001b[0m\u001b[37m\u001b[0m \u001b[1m2s\u001b[0m 293ms/step - loss: 6.6625e-04 - val_loss: 0.0049\n",
      "Epoch 45/100\n",
      "\u001b[1m7/7\u001b[0m \u001b[32m━━━━━━━━━━━━━━━━━━━━\u001b[0m\u001b[37m\u001b[0m \u001b[1m2s\u001b[0m 266ms/step - loss: 7.6406e-04 - val_loss: 0.0038\n",
      "Epoch 46/100\n",
      "\u001b[1m7/7\u001b[0m \u001b[32m━━━━━━━━━━━━━━━━━━━━\u001b[0m\u001b[37m\u001b[0m \u001b[1m2s\u001b[0m 270ms/step - loss: 7.5552e-04 - val_loss: 0.0072\n",
      "Epoch 47/100\n",
      "\u001b[1m7/7\u001b[0m \u001b[32m━━━━━━━━━━━━━━━━━━━━\u001b[0m\u001b[37m\u001b[0m \u001b[1m2s\u001b[0m 270ms/step - loss: 7.8140e-04 - val_loss: 0.0015\n",
      "Epoch 48/100\n",
      "\u001b[1m7/7\u001b[0m \u001b[32m━━━━━━━━━━━━━━━━━━━━\u001b[0m\u001b[37m\u001b[0m \u001b[1m2s\u001b[0m 293ms/step - loss: 6.1648e-04 - val_loss: 0.0085\n",
      "Epoch 49/100\n",
      "\u001b[1m7/7\u001b[0m \u001b[32m━━━━━━━━━━━━━━━━━━━━\u001b[0m\u001b[37m\u001b[0m \u001b[1m3s\u001b[0m 322ms/step - loss: 8.0435e-04 - val_loss: 0.0014\n",
      "Epoch 50/100\n",
      "\u001b[1m7/7\u001b[0m \u001b[32m━━━━━━━━━━━━━━━━━━━━\u001b[0m\u001b[37m\u001b[0m \u001b[1m2s\u001b[0m 356ms/step - loss: 6.9549e-04 - val_loss: 0.0050\n",
      "Epoch 51/100\n",
      "\u001b[1m7/7\u001b[0m \u001b[32m━━━━━━━━━━━━━━━━━━━━\u001b[0m\u001b[37m\u001b[0m \u001b[1m3s\u001b[0m 341ms/step - loss: 5.5554e-04 - val_loss: 0.0013\n",
      "Epoch 52/100\n",
      "\u001b[1m7/7\u001b[0m \u001b[32m━━━━━━━━━━━━━━━━━━━━\u001b[0m\u001b[37m\u001b[0m \u001b[1m2s\u001b[0m 291ms/step - loss: 4.6729e-04 - val_loss: 0.0030\n",
      "Epoch 53/100\n",
      "\u001b[1m7/7\u001b[0m \u001b[32m━━━━━━━━━━━━━━━━━━━━\u001b[0m\u001b[37m\u001b[0m \u001b[1m2s\u001b[0m 270ms/step - loss: 5.8222e-04 - val_loss: 0.0027\n",
      "Epoch 54/100\n",
      "\u001b[1m7/7\u001b[0m \u001b[32m━━━━━━━━━━━━━━━━━━━━\u001b[0m\u001b[37m\u001b[0m \u001b[1m3s\u001b[0m 274ms/step - loss: 5.1699e-04 - val_loss: 0.0029\n",
      "Epoch 55/100\n",
      "\u001b[1m7/7\u001b[0m \u001b[32m━━━━━━━━━━━━━━━━━━━━\u001b[0m\u001b[37m\u001b[0m \u001b[1m2s\u001b[0m 277ms/step - loss: 5.0759e-04 - val_loss: 0.0016\n",
      "Epoch 56/100\n",
      "\u001b[1m7/7\u001b[0m \u001b[32m━━━━━━━━━━━━━━━━━━━━\u001b[0m\u001b[37m\u001b[0m \u001b[1m2s\u001b[0m 284ms/step - loss: 5.0165e-04 - val_loss: 0.0014\n",
      "Epoch 57/100\n",
      "\u001b[1m7/7\u001b[0m \u001b[32m━━━━━━━━━━━━━━━━━━━━\u001b[0m\u001b[37m\u001b[0m \u001b[1m2s\u001b[0m 322ms/step - loss: 4.8363e-04 - val_loss: 0.0017\n",
      "Epoch 58/100\n",
      "\u001b[1m7/7\u001b[0m \u001b[32m━━━━━━━━━━━━━━━━━━━━\u001b[0m\u001b[37m\u001b[0m \u001b[1m2s\u001b[0m 296ms/step - loss: 4.6651e-04 - val_loss: 0.0035\n",
      "Epoch 59/100\n",
      "\u001b[1m7/7\u001b[0m \u001b[32m━━━━━━━━━━━━━━━━━━━━\u001b[0m\u001b[37m\u001b[0m \u001b[1m2s\u001b[0m 283ms/step - loss: 4.8665e-04 - val_loss: 0.0017\n",
      "Epoch 60/100\n",
      "\u001b[1m7/7\u001b[0m \u001b[32m━━━━━━━━━━━━━━━━━━━━\u001b[0m\u001b[37m\u001b[0m \u001b[1m2s\u001b[0m 271ms/step - loss: 5.8350e-04 - val_loss: 0.0014\n",
      "Epoch 61/100\n",
      "\u001b[1m7/7\u001b[0m \u001b[32m━━━━━━━━━━━━━━━━━━━━\u001b[0m\u001b[37m\u001b[0m \u001b[1m3s\u001b[0m 267ms/step - loss: 5.6662e-04 - val_loss: 0.0014\n",
      "Epoch 62/100\n",
      "\u001b[1m7/7\u001b[0m \u001b[32m━━━━━━━━━━━━━━━━━━━━\u001b[0m\u001b[37m\u001b[0m \u001b[1m2s\u001b[0m 305ms/step - loss: 4.6156e-04 - val_loss: 0.0016\n",
      "Epoch 63/100\n",
      "\u001b[1m7/7\u001b[0m \u001b[32m━━━━━━━━━━━━━━━━━━━━\u001b[0m\u001b[37m\u001b[0m \u001b[1m2s\u001b[0m 286ms/step - loss: 5.0030e-04 - val_loss: 0.0019\n",
      "Epoch 64/100\n",
      "\u001b[1m7/7\u001b[0m \u001b[32m━━━━━━━━━━━━━━━━━━━━\u001b[0m\u001b[37m\u001b[0m \u001b[1m2s\u001b[0m 311ms/step - loss: 4.8336e-04 - val_loss: 0.0059\n",
      "Epoch 65/100\n",
      "\u001b[1m7/7\u001b[0m \u001b[32m━━━━━━━━━━━━━━━━━━━━\u001b[0m\u001b[37m\u001b[0m \u001b[1m2s\u001b[0m 259ms/step - loss: 8.0009e-04 - val_loss: 0.0038\n",
      "Epoch 66/100\n",
      "\u001b[1m7/7\u001b[0m \u001b[32m━━━━━━━━━━━━━━━━━━━━\u001b[0m\u001b[37m\u001b[0m \u001b[1m2s\u001b[0m 273ms/step - loss: 5.4975e-04 - val_loss: 0.0035\n",
      "Epoch 67/100\n",
      "\u001b[1m7/7\u001b[0m \u001b[32m━━━━━━━━━━━━━━━━━━━━\u001b[0m\u001b[37m\u001b[0m \u001b[1m3s\u001b[0m 268ms/step - loss: 5.2552e-04 - val_loss: 0.0018\n",
      "Epoch 68/100\n",
      "\u001b[1m7/7\u001b[0m \u001b[32m━━━━━━━━━━━━━━━━━━━━\u001b[0m\u001b[37m\u001b[0m \u001b[1m2s\u001b[0m 268ms/step - loss: 4.8092e-04 - val_loss: 0.0011\n",
      "Epoch 69/100\n",
      "\u001b[1m7/7\u001b[0m \u001b[32m━━━━━━━━━━━━━━━━━━━━\u001b[0m\u001b[37m\u001b[0m \u001b[1m3s\u001b[0m 265ms/step - loss: 4.0210e-04 - val_loss: 0.0038\n",
      "Epoch 70/100\n",
      "\u001b[1m7/7\u001b[0m \u001b[32m━━━━━━━━━━━━━━━━━━━━\u001b[0m\u001b[37m\u001b[0m \u001b[1m2s\u001b[0m 302ms/step - loss: 4.9854e-04 - val_loss: 0.0010\n",
      "Epoch 71/100\n",
      "\u001b[1m7/7\u001b[0m \u001b[32m━━━━━━━━━━━━━━━━━━━━\u001b[0m\u001b[37m\u001b[0m \u001b[1m2s\u001b[0m 262ms/step - loss: 5.3327e-04 - val_loss: 0.0056\n",
      "Epoch 72/100\n",
      "\u001b[1m7/7\u001b[0m \u001b[32m━━━━━━━━━━━━━━━━━━━━\u001b[0m\u001b[37m\u001b[0m \u001b[1m2s\u001b[0m 297ms/step - loss: 5.5968e-04 - val_loss: 9.4877e-04\n",
      "Epoch 73/100\n",
      "\u001b[1m7/7\u001b[0m \u001b[32m━━━━━━━━━━━━━━━━━━━━\u001b[0m\u001b[37m\u001b[0m \u001b[1m2s\u001b[0m 267ms/step - loss: 5.2814e-04 - val_loss: 0.0026\n",
      "Epoch 74/100\n",
      "\u001b[1m7/7\u001b[0m \u001b[32m━━━━━━━━━━━━━━━━━━━━\u001b[0m\u001b[37m\u001b[0m \u001b[1m2s\u001b[0m 274ms/step - loss: 4.9219e-04 - val_loss: 0.0018\n",
      "Epoch 75/100\n",
      "\u001b[1m7/7\u001b[0m \u001b[32m━━━━━━━━━━━━━━━━━━━━\u001b[0m\u001b[37m\u001b[0m \u001b[1m2s\u001b[0m 275ms/step - loss: 4.1134e-04 - val_loss: 0.0014\n",
      "Epoch 76/100\n",
      "\u001b[1m7/7\u001b[0m \u001b[32m━━━━━━━━━━━━━━━━━━━━\u001b[0m\u001b[37m\u001b[0m \u001b[1m3s\u001b[0m 274ms/step - loss: 5.1163e-04 - val_loss: 0.0058\n",
      "Epoch 77/100\n",
      "\u001b[1m7/7\u001b[0m \u001b[32m━━━━━━━━━━━━━━━━━━━━\u001b[0m\u001b[37m\u001b[0m \u001b[1m3s\u001b[0m 280ms/step - loss: 7.1040e-04 - val_loss: 0.0024\n",
      "Epoch 78/100\n",
      "\u001b[1m7/7\u001b[0m \u001b[32m━━━━━━━━━━━━━━━━━━━━\u001b[0m\u001b[37m\u001b[0m \u001b[1m3s\u001b[0m 275ms/step - loss: 5.2688e-04 - val_loss: 0.0034\n",
      "Epoch 79/100\n",
      "\u001b[1m7/7\u001b[0m \u001b[32m━━━━━━━━━━━━━━━━━━━━\u001b[0m\u001b[37m\u001b[0m \u001b[1m2s\u001b[0m 291ms/step - loss: 4.9852e-04 - val_loss: 9.6636e-04\n",
      "Epoch 80/100\n",
      "\u001b[1m7/7\u001b[0m \u001b[32m━━━━━━━━━━━━━━━━━━━━\u001b[0m\u001b[37m\u001b[0m \u001b[1m2s\u001b[0m 273ms/step - loss: 6.2515e-04 - val_loss: 0.0019\n",
      "Epoch 81/100\n",
      "\u001b[1m7/7\u001b[0m \u001b[32m━━━━━━━━━━━━━━━━━━━━\u001b[0m\u001b[37m\u001b[0m \u001b[1m2s\u001b[0m 333ms/step - loss: 5.6333e-04 - val_loss: 0.0023\n",
      "Epoch 82/100\n",
      "\u001b[1m7/7\u001b[0m \u001b[32m━━━━━━━━━━━━━━━━━━━━\u001b[0m\u001b[37m\u001b[0m \u001b[1m2s\u001b[0m 274ms/step - loss: 3.8629e-04 - val_loss: 0.0016\n",
      "Epoch 83/100\n",
      "\u001b[1m7/7\u001b[0m \u001b[32m━━━━━━━━━━━━━━━━━━━━\u001b[0m\u001b[37m\u001b[0m \u001b[1m2s\u001b[0m 278ms/step - loss: 4.6189e-04 - val_loss: 0.0018\n",
      "Epoch 84/100\n",
      "\u001b[1m7/7\u001b[0m \u001b[32m━━━━━━━━━━━━━━━━━━━━\u001b[0m\u001b[37m\u001b[0m \u001b[1m2s\u001b[0m 273ms/step - loss: 3.7372e-04 - val_loss: 0.0035\n",
      "Epoch 85/100\n",
      "\u001b[1m7/7\u001b[0m \u001b[32m━━━━━━━━━━━━━━━━━━━━\u001b[0m\u001b[37m\u001b[0m \u001b[1m2s\u001b[0m 290ms/step - loss: 4.2569e-04 - val_loss: 0.0030\n",
      "Epoch 86/100\n",
      "\u001b[1m7/7\u001b[0m \u001b[32m━━━━━━━━━━━━━━━━━━━━\u001b[0m\u001b[37m\u001b[0m \u001b[1m2s\u001b[0m 276ms/step - loss: 4.2154e-04 - val_loss: 0.0013\n",
      "Epoch 87/100\n",
      "\u001b[1m7/7\u001b[0m \u001b[32m━━━━━━━━━━━━━━━━━━━━\u001b[0m\u001b[37m\u001b[0m \u001b[1m2s\u001b[0m 294ms/step - loss: 4.9261e-04 - val_loss: 0.0023\n",
      "Epoch 88/100\n",
      "\u001b[1m7/7\u001b[0m \u001b[32m━━━━━━━━━━━━━━━━━━━━\u001b[0m\u001b[37m\u001b[0m \u001b[1m3s\u001b[0m 286ms/step - loss: 4.2403e-04 - val_loss: 8.1745e-04\n",
      "Epoch 89/100\n",
      "\u001b[1m7/7\u001b[0m \u001b[32m━━━━━━━━━━━━━━━━━━━━\u001b[0m\u001b[37m\u001b[0m \u001b[1m3s\u001b[0m 288ms/step - loss: 5.6265e-04 - val_loss: 0.0017\n",
      "Epoch 90/100\n",
      "\u001b[1m7/7\u001b[0m \u001b[32m━━━━━━━━━━━━━━━━━━━━\u001b[0m\u001b[37m\u001b[0m \u001b[1m3s\u001b[0m 278ms/step - loss: 4.3219e-04 - val_loss: 0.0010\n",
      "Epoch 91/100\n",
      "\u001b[1m7/7\u001b[0m \u001b[32m━━━━━━━━━━━━━━━━━━━━\u001b[0m\u001b[37m\u001b[0m \u001b[1m2s\u001b[0m 287ms/step - loss: 4.5576e-04 - val_loss: 0.0014\n",
      "Epoch 92/100\n",
      "\u001b[1m7/7\u001b[0m \u001b[32m━━━━━━━━━━━━━━━━━━━━\u001b[0m\u001b[37m\u001b[0m \u001b[1m2s\u001b[0m 279ms/step - loss: 4.1413e-04 - val_loss: 0.0036\n",
      "Epoch 93/100\n",
      "\u001b[1m7/7\u001b[0m \u001b[32m━━━━━━━━━━━━━━━━━━━━\u001b[0m\u001b[37m\u001b[0m \u001b[1m3s\u001b[0m 288ms/step - loss: 4.5356e-04 - val_loss: 9.9739e-04\n",
      "Epoch 94/100\n",
      "\u001b[1m7/7\u001b[0m \u001b[32m━━━━━━━━━━━━━━━━━━━━\u001b[0m\u001b[37m\u001b[0m \u001b[1m2s\u001b[0m 271ms/step - loss: 4.1364e-04 - val_loss: 0.0018\n",
      "Epoch 95/100\n",
      "\u001b[1m7/7\u001b[0m \u001b[32m━━━━━━━━━━━━━━━━━━━━\u001b[0m\u001b[37m\u001b[0m \u001b[1m3s\u001b[0m 286ms/step - loss: 3.6433e-04 - val_loss: 0.0012\n",
      "Epoch 96/100\n",
      "\u001b[1m7/7\u001b[0m \u001b[32m━━━━━━━━━━━━━━━━━━━━\u001b[0m\u001b[37m\u001b[0m \u001b[1m3s\u001b[0m 296ms/step - loss: 3.8252e-04 - val_loss: 9.6029e-04\n",
      "Epoch 97/100\n",
      "\u001b[1m7/7\u001b[0m \u001b[32m━━━━━━━━━━━━━━━━━━━━\u001b[0m\u001b[37m\u001b[0m \u001b[1m2s\u001b[0m 291ms/step - loss: 4.2796e-04 - val_loss: 0.0019\n",
      "Epoch 98/100\n",
      "\u001b[1m7/7\u001b[0m \u001b[32m━━━━━━━━━━━━━━━━━━━━\u001b[0m\u001b[37m\u001b[0m \u001b[1m2s\u001b[0m 278ms/step - loss: 3.8094e-04 - val_loss: 0.0019\n",
      "Epoch 99/100\n",
      "\u001b[1m7/7\u001b[0m \u001b[32m━━━━━━━━━━━━━━━━━━━━\u001b[0m\u001b[37m\u001b[0m \u001b[1m3s\u001b[0m 326ms/step - loss: 4.2901e-04 - val_loss: 0.0026\n",
      "Epoch 100/100\n",
      "\u001b[1m7/7\u001b[0m \u001b[32m━━━━━━━━━━━━━━━━━━━━\u001b[0m\u001b[37m\u001b[0m \u001b[1m2s\u001b[0m 315ms/step - loss: 4.0664e-04 - val_loss: 9.0915e-04\n"
     ]
    },
    {
     "data": {
      "text/plain": [
       "<keras.src.callbacks.history.History at 0x23dacf1d390>"
      ]
     },
     "execution_count": 47,
     "metadata": {},
     "output_type": "execute_result"
    }
   ],
   "source": [
    "model.fit(X_train,Y_train,validation_data=(X_test,ytest),epochs=100,batch_size=64,verbose=1)"
   ]
  },
  {
   "cell_type": "code",
   "execution_count": 48,
   "id": "94276dd0-035c-486e-866b-8cabae0864bc",
   "metadata": {},
   "outputs": [],
   "source": [
    "import tensorflow as tf"
   ]
  },
  {
   "cell_type": "code",
   "execution_count": 49,
   "id": "c3b5e7ca-c364-4de0-bd64-0d95e6a6f779",
   "metadata": {},
   "outputs": [
    {
     "name": "stdout",
     "output_type": "stream",
     "text": [
      "\u001b[1m13/13\u001b[0m \u001b[32m━━━━━━━━━━━━━━━━━━━━\u001b[0m\u001b[37m\u001b[0m \u001b[1m4s\u001b[0m 183ms/step\n",
      "\u001b[1m6/6\u001b[0m \u001b[32m━━━━━━━━━━━━━━━━━━━━\u001b[0m\u001b[37m\u001b[0m \u001b[1m0s\u001b[0m 59ms/step\n"
     ]
    }
   ],
   "source": [
    "train_predict=model.predict(X_train)\n",
    "test_predict=model.predict(X_test)"
   ]
  },
  {
   "cell_type": "code",
   "execution_count": 50,
   "id": "28a37895-e541-4747-8057-bb45968e3445",
   "metadata": {},
   "outputs": [],
   "source": [
    "train_predict=scaler.inverse_transform(train_predict)\n",
    "test_predict=scaler.inverse_transform(test_predict)"
   ]
  },
  {
   "cell_type": "code",
   "execution_count": 51,
   "id": "68b80218-558a-48e5-8948-a25b6b1b813d",
   "metadata": {},
   "outputs": [
    {
     "data": {
      "text/plain": [
       "72.23719013351874"
      ]
     },
     "execution_count": 51,
     "metadata": {},
     "output_type": "execute_result"
    }
   ],
   "source": [
    "import math\n",
    "from sklearn.metrics import mean_squared_error\n",
    "math.sqrt(mean_squared_error(Y_train,train_predict))\n"
   ]
  },
  {
   "cell_type": "code",
   "execution_count": 52,
   "id": "6c5d351d-fffc-4a13-9897-2f10e30e7d98",
   "metadata": {},
   "outputs": [
    {
     "data": {
      "text/plain": [
       "176.22170898663435"
      ]
     },
     "execution_count": 52,
     "metadata": {},
     "output_type": "execute_result"
    }
   ],
   "source": [
    "math.sqrt(mean_squared_error(ytest,test_predict))\n"
   ]
  },
  {
   "cell_type": "code",
   "execution_count": 68,
   "id": "88f38995-5e6a-428d-9323-e3569f3a8daf",
   "metadata": {},
   "outputs": [
    {
     "data": {
      "image/png": "[encoded data removed]",
      "text/plain": [
       "<Figure size 640x480 with 1 Axes>"
      ]
     },
     "metadata": {},
     "output_type": "display_data"
    }
   ],
   "source": [
    "look_back=100\n",
    "trainPredictPlot=np.empty_like(dzom1)\n",
    "trainPredictPlot[:,:]=np.nan\n",
    "trainPredictPlot[look_back:len(train_predict)+look_back,:] = train_predict\n",
    "testPredictPlot=np.empty_like(dzom1)\n",
    "testPredictPlot[:,:]=np.nan\n",
    "testPredictPlot[len(train_predict)+(look_back*2)+1:len(dzom1)-1,:]=test_predict\n",
    "plt.plot(scaler.inverse_transform(dzom1))\n",
    "plt.plot(trainPredictPlot)\n",
    "plt.plot(testPredictPlot)\n",
    "plt.show()"
   ]
  },
  {
   "cell_type": "code",
   "execution_count": 69,
   "id": "8133ac54-5b27-4820-93fa-bfbc01c1f092",
   "metadata": {},
   "outputs": [
    {
     "data": {
      "text/plain": [
       "265"
      ]
     },
     "execution_count": 69,
     "metadata": {},
     "output_type": "execute_result"
    }
   ],
   "source": [
    "len(test_data)"
   ]
  },
  {
   "cell_type": "code",
   "execution_count": 71,
   "id": "8f5b6ae0-cefd-4e50-945d-4babbfa146e3",
   "metadata": {},
   "outputs": [
    {
     "data": {
      "text/plain": [
       "(1, 100)"
      ]
     },
     "execution_count": 71,
     "metadata": {},
     "output_type": "execute_result"
    }
   ],
   "source": [
    "x_input=test_data[165:].reshape(1,-1)\n",
    "x_input.shape"
   ]
  },
  {
   "cell_type": "code",
   "execution_count": 72,
   "id": "0db70d9f-7f71-4fa4-9b2a-b49298ffa69c",
   "metadata": {},
   "outputs": [],
   "source": [
    "temp_input=list(x_input)\n",
    "temp_input=temp_input[0].tolist()"
   ]
  },
  {
   "cell_type": "code",
   "execution_count": 73,
   "id": "40d3c5ee-d057-4b75-9b8c-5d0fda9bd04e",
   "metadata": {},
   "outputs": [
    {
     "name": "stdout",
     "output_type": "stream",
     "text": [
      "[1.0070397]\n",
      "101\n",
      "1day input [0.51721079 0.51588005 0.54981373 0.56777855 0.58796131 0.62522182\n",
      " 0.61124911 0.62300394 0.63364976 0.62743971 0.606148   0.64473919\n",
      " 0.66026438 0.6660309  0.67445883 0.68865328 0.66736164 0.6505057\n",
      " 0.6422995  0.63675479 0.65449787 0.67290635 0.64673527 0.63320616\n",
      " 0.6345369  0.64961856 0.67401529 0.67201914 0.68222143 0.69020583\n",
      " 0.68333037 0.66447835 0.68222143 0.68133429 0.70817071 0.67712032\n",
      " 0.64606993 0.66691804 0.68111249 0.67956001 0.65405433 0.63808553\n",
      " 0.64385204 0.6265525  0.62987933 0.62078605 0.62854865 0.61635028\n",
      " 0.60991836 0.59350603 0.57820263 0.63054473 0.62987933 0.63143187\n",
      " 0.62327008 0.63152061 0.61213625 0.63560151 0.64136802 0.65188078\n",
      " 0.69570621 0.68931869 0.67556777 0.69761356 0.71247341 0.69020583\n",
      " 0.70306954 0.70488822 0.72001421 0.74272533 0.73984211 0.73540634\n",
      " 0.73598301 0.73757982 0.75811746 0.75283888 0.77843329 0.80207596\n",
      " 0.83170687 0.77998584 0.79386976 0.78619589 0.798483   0.78184886\n",
      " 0.80660046 0.78805891 0.81161284 0.82168205 0.82274666 0.83303762\n",
      " 0.85361958 0.97893009 0.95209374 0.92011181 0.99370128 0.99334634\n",
      " 1.         0.98376507 0.9555979  1.00703967]\n",
      "1day output [[0.9991213]]\n",
      "2day input [0.51588005 0.54981373 0.56777855 0.58796131 0.62522182 0.61124911\n",
      " 0.62300394 0.63364976 0.62743971 0.606148   0.64473919 0.66026438\n",
      " 0.6660309  0.67445883 0.68865328 0.66736164 0.6505057  0.6422995\n",
      " 0.63675479 0.65449787 0.67290635 0.64673527 0.63320616 0.6345369\n",
      " 0.64961856 0.67401529 0.67201914 0.68222143 0.69020583 0.68333037\n",
      " 0.66447835 0.68222143 0.68133429 0.70817071 0.67712032 0.64606993\n",
      " 0.66691804 0.68111249 0.67956001 0.65405433 0.63808553 0.64385204\n",
      " 0.6265525  0.62987933 0.62078605 0.62854865 0.61635028 0.60991836\n",
      " 0.59350603 0.57820263 0.63054473 0.62987933 0.63143187 0.62327008\n",
      " 0.63152061 0.61213625 0.63560151 0.64136802 0.65188078 0.69570621\n",
      " 0.68931869 0.67556777 0.69761356 0.71247341 0.69020583 0.70306954\n",
      " 0.70488822 0.72001421 0.74272533 0.73984211 0.73540634 0.73598301\n",
      " 0.73757982 0.75811746 0.75283888 0.77843329 0.80207596 0.83170687\n",
      " 0.77998584 0.79386976 0.78619589 0.798483   0.78184886 0.80660046\n",
      " 0.78805891 0.81161284 0.82168205 0.82274666 0.83303762 0.85361958\n",
      " 0.97893009 0.95209374 0.92011181 0.99370128 0.99334634 1.\n",
      " 0.98376507 0.9555979  1.00703967 0.99912131]\n",
      "2day output [[0.9954852]]\n",
      "3day input [0.54981373 0.56777855 0.58796131 0.62522182 0.61124911 0.62300394\n",
      " 0.63364976 0.62743971 0.606148   0.64473919 0.66026438 0.6660309\n",
      " 0.67445883 0.68865328 0.66736164 0.6505057  0.6422995  0.63675479\n",
      " 0.65449787 0.67290635 0.64673527 0.63320616 0.6345369  0.64961856\n",
      " 0.67401529 0.67201914 0.68222143 0.69020583 0.68333037 0.66447835\n",
      " 0.68222143 0.68133429 0.70817071 0.67712032 0.64606993 0.66691804\n",
      " 0.68111249 0.67956001 0.65405433 0.63808553 0.64385204 0.6265525\n",
      " 0.62987933 0.62078605 0.62854865 0.61635028 0.60991836 0.59350603\n",
      " 0.57820263 0.63054473 0.62987933 0.63143187 0.62327008 0.63152061\n",
      " 0.61213625 0.63560151 0.64136802 0.65188078 0.69570621 0.68931869\n",
      " 0.67556777 0.69761356 0.71247341 0.69020583 0.70306954 0.70488822\n",
      " 0.72001421 0.74272533 0.73984211 0.73540634 0.73598301 0.73757982\n",
      " 0.75811746 0.75283888 0.77843329 0.80207596 0.83170687 0.77998584\n",
      " 0.79386976 0.78619589 0.798483   0.78184886 0.80660046 0.78805891\n",
      " 0.81161284 0.82168205 0.82274666 0.83303762 0.85361958 0.97893009\n",
      " 0.95209374 0.92011181 0.99370128 0.99334634 1.         0.98376507\n",
      " 0.9555979  1.00703967 0.99912131 0.99548519]\n",
      "3day output [[0.994251]]\n",
      "4day input [0.56777855 0.58796131 0.62522182 0.61124911 0.62300394 0.63364976\n",
      " 0.62743971 0.606148   0.64473919 0.66026438 0.6660309  0.67445883\n",
      " 0.68865328 0.66736164 0.6505057  0.6422995  0.63675479 0.65449787\n",
      " 0.67290635 0.64673527 0.63320616 0.6345369  0.64961856 0.67401529\n",
      " 0.67201914 0.68222143 0.69020583 0.68333037 0.66447835 0.68222143\n",
      " 0.68133429 0.70817071 0.67712032 0.64606993 0.66691804 0.68111249\n",
      " 0.67956001 0.65405433 0.63808553 0.64385204 0.6265525  0.62987933\n",
      " 0.62078605 0.62854865 0.61635028 0.60991836 0.59350603 0.57820263\n",
      " 0.63054473 0.62987933 0.63143187 0.62327008 0.63152061 0.61213625\n",
      " 0.63560151 0.64136802 0.65188078 0.69570621 0.68931869 0.67556777\n",
      " 0.69761356 0.71247341 0.69020583 0.70306954 0.70488822 0.72001421\n",
      " 0.74272533 0.73984211 0.73540634 0.73598301 0.73757982 0.75811746\n",
      " 0.75283888 0.77843329 0.80207596 0.83170687 0.77998584 0.79386976\n",
      " 0.78619589 0.798483   0.78184886 0.80660046 0.78805891 0.81161284\n",
      " 0.82168205 0.82274666 0.83303762 0.85361958 0.97893009 0.95209374\n",
      " 0.92011181 0.99370128 0.99334634 1.         0.98376507 0.9555979\n",
      " 1.00703967 0.99912131 0.99548519 0.99425101]\n",
      "4day output [[0.9944958]]\n",
      "5day input [0.58796131 0.62522182 0.61124911 0.62300394 0.63364976 0.62743971\n",
      " 0.606148   0.64473919 0.66026438 0.6660309  0.67445883 0.68865328\n",
      " 0.66736164 0.6505057  0.6422995  0.63675479 0.65449787 0.67290635\n",
      " 0.64673527 0.63320616 0.6345369  0.64961856 0.67401529 0.67201914\n",
      " 0.68222143 0.69020583 0.68333037 0.66447835 0.68222143 0.68133429\n",
      " 0.70817071 0.67712032 0.64606993 0.66691804 0.68111249 0.67956001\n",
      " 0.65405433 0.63808553 0.64385204 0.6265525  0.62987933 0.62078605\n",
      " 0.62854865 0.61635028 0.60991836 0.59350603 0.57820263 0.63054473\n",
      " 0.62987933 0.63143187 0.62327008 0.63152061 0.61213625 0.63560151\n",
      " 0.64136802 0.65188078 0.69570621 0.68931869 0.67556777 0.69761356\n",
      " 0.71247341 0.69020583 0.70306954 0.70488822 0.72001421 0.74272533\n",
      " 0.73984211 0.73540634 0.73598301 0.73757982 0.75811746 0.75283888\n",
      " 0.77843329 0.80207596 0.83170687 0.77998584 0.79386976 0.78619589\n",
      " 0.798483   0.78184886 0.80660046 0.78805891 0.81161284 0.82168205\n",
      " 0.82274666 0.83303762 0.85361958 0.97893009 0.95209374 0.92011181\n",
      " 0.99370128 0.99334634 1.         0.98376507 0.9555979  1.00703967\n",
      " 0.99912131 0.99548519 0.99425101 0.99449581]\n",
      "5day output [[0.9961298]]\n",
      "6day input [0.62522182 0.61124911 0.62300394 0.63364976 0.62743971 0.606148\n",
      " 0.64473919 0.66026438 0.6660309  0.67445883 0.68865328 0.66736164\n",
      " 0.6505057  0.6422995  0.63675479 0.65449787 0.67290635 0.64673527\n",
      " 0.63320616 0.6345369  0.64961856 0.67401529 0.67201914 0.68222143\n",
      " 0.69020583 0.68333037 0.66447835 0.68222143 0.68133429 0.70817071\n",
      " 0.67712032 0.64606993 0.66691804 0.68111249 0.67956001 0.65405433\n",
      " 0.63808553 0.64385204 0.6265525  0.62987933 0.62078605 0.62854865\n",
      " 0.61635028 0.60991836 0.59350603 0.57820263 0.63054473 0.62987933\n",
      " 0.63143187 0.62327008 0.63152061 0.61213625 0.63560151 0.64136802\n",
      " 0.65188078 0.69570621 0.68931869 0.67556777 0.69761356 0.71247341\n",
      " 0.69020583 0.70306954 0.70488822 0.72001421 0.74272533 0.73984211\n",
      " 0.73540634 0.73598301 0.73757982 0.75811746 0.75283888 0.77843329\n",
      " 0.80207596 0.83170687 0.77998584 0.79386976 0.78619589 0.798483\n",
      " 0.78184886 0.80660046 0.78805891 0.81161284 0.82168205 0.82274666\n",
      " 0.83303762 0.85361958 0.97893009 0.95209374 0.92011181 0.99370128\n",
      " 0.99334634 1.         0.98376507 0.9555979  1.00703967 0.99912131\n",
      " 0.99548519 0.99425101 0.99449581 0.99612981]\n",
      "6day output [[0.99942845]]\n",
      "7day input [0.61124911 0.62300394 0.63364976 0.62743971 0.606148   0.64473919\n",
      " 0.66026438 0.6660309  0.67445883 0.68865328 0.66736164 0.6505057\n",
      " 0.6422995  0.63675479 0.65449787 0.67290635 0.64673527 0.63320616\n",
      " 0.6345369  0.64961856 0.67401529 0.67201914 0.68222143 0.69020583\n",
      " 0.68333037 0.66447835 0.68222143 0.68133429 0.70817071 0.67712032\n",
      " 0.64606993 0.66691804 0.68111249 0.67956001 0.65405433 0.63808553\n",
      " 0.64385204 0.6265525  0.62987933 0.62078605 0.62854865 0.61635028\n",
      " 0.60991836 0.59350603 0.57820263 0.63054473 0.62987933 0.63143187\n",
      " 0.62327008 0.63152061 0.61213625 0.63560151 0.64136802 0.65188078\n",
      " 0.69570621 0.68931869 0.67556777 0.69761356 0.71247341 0.69020583\n",
      " 0.70306954 0.70488822 0.72001421 0.74272533 0.73984211 0.73540634\n",
      " 0.73598301 0.73757982 0.75811746 0.75283888 0.77843329 0.80207596\n",
      " 0.83170687 0.77998584 0.79386976 0.78619589 0.798483   0.78184886\n",
      " 0.80660046 0.78805891 0.81161284 0.82168205 0.82274666 0.83303762\n",
      " 0.85361958 0.97893009 0.95209374 0.92011181 0.99370128 0.99334634\n",
      " 1.         0.98376507 0.9555979  1.00703967 0.99912131 0.99548519\n",
      " 0.99425101 0.99449581 0.99612981 0.99942845]\n",
      "7day output [[1.0047295]]\n",
      "8day input [0.62300394 0.63364976 0.62743971 0.606148   0.64473919 0.66026438\n",
      " 0.6660309  0.67445883 0.68865328 0.66736164 0.6505057  0.6422995\n",
      " 0.63675479 0.65449787 0.67290635 0.64673527 0.63320616 0.6345369\n",
      " 0.64961856 0.67401529 0.67201914 0.68222143 0.69020583 0.68333037\n",
      " 0.66447835 0.68222143 0.68133429 0.70817071 0.67712032 0.64606993\n",
      " 0.66691804 0.68111249 0.67956001 0.65405433 0.63808553 0.64385204\n",
      " 0.6265525  0.62987933 0.62078605 0.62854865 0.61635028 0.60991836\n",
      " 0.59350603 0.57820263 0.63054473 0.62987933 0.63143187 0.62327008\n",
      " 0.63152061 0.61213625 0.63560151 0.64136802 0.65188078 0.69570621\n",
      " 0.68931869 0.67556777 0.69761356 0.71247341 0.69020583 0.70306954\n",
      " 0.70488822 0.72001421 0.74272533 0.73984211 0.73540634 0.73598301\n",
      " 0.73757982 0.75811746 0.75283888 0.77843329 0.80207596 0.83170687\n",
      " 0.77998584 0.79386976 0.78619589 0.798483   0.78184886 0.80660046\n",
      " 0.78805891 0.81161284 0.82168205 0.82274666 0.83303762 0.85361958\n",
      " 0.97893009 0.95209374 0.92011181 0.99370128 0.99334634 1.\n",
      " 0.98376507 0.9555979  1.00703967 0.99912131 0.99548519 0.99425101\n",
      " 0.99449581 0.99612981 0.99942845 1.00472951]\n",
      "8day output [[1.0123017]]\n",
      "9day input [0.63364976 0.62743971 0.606148   0.64473919 0.66026438 0.6660309\n",
      " 0.67445883 0.68865328 0.66736164 0.6505057  0.6422995  0.63675479\n",
      " 0.65449787 0.67290635 0.64673527 0.63320616 0.6345369  0.64961856\n",
      " 0.67401529 0.67201914 0.68222143 0.69020583 0.68333037 0.66447835\n",
      " 0.68222143 0.68133429 0.70817071 0.67712032 0.64606993 0.66691804\n",
      " 0.68111249 0.67956001 0.65405433 0.63808553 0.64385204 0.6265525\n",
      " 0.62987933 0.62078605 0.62854865 0.61635028 0.60991836 0.59350603\n",
      " 0.57820263 0.63054473 0.62987933 0.63143187 0.62327008 0.63152061\n",
      " 0.61213625 0.63560151 0.64136802 0.65188078 0.69570621 0.68931869\n",
      " 0.67556777 0.69761356 0.71247341 0.69020583 0.70306954 0.70488822\n",
      " 0.72001421 0.74272533 0.73984211 0.73540634 0.73598301 0.73757982\n",
      " 0.75811746 0.75283888 0.77843329 0.80207596 0.83170687 0.77998584\n",
      " 0.79386976 0.78619589 0.798483   0.78184886 0.80660046 0.78805891\n",
      " 0.81161284 0.82168205 0.82274666 0.83303762 0.85361958 0.97893009\n",
      " 0.95209374 0.92011181 0.99370128 0.99334634 1.         0.98376507\n",
      " 0.9555979  1.00703967 0.99912131 0.99548519 0.99425101 0.99449581\n",
      " 0.99612981 0.99942845 1.00472951 1.01230168]\n",
      "9day output [[1.0223025]]\n",
      "10day input [0.62743971 0.606148   0.64473919 0.66026438 0.6660309  0.67445883\n",
      " 0.68865328 0.66736164 0.6505057  0.6422995  0.63675479 0.65449787\n",
      " 0.67290635 0.64673527 0.63320616 0.6345369  0.64961856 0.67401529\n",
      " 0.67201914 0.68222143 0.69020583 0.68333037 0.66447835 0.68222143\n",
      " 0.68133429 0.70817071 0.67712032 0.64606993 0.66691804 0.68111249\n",
      " 0.67956001 0.65405433 0.63808553 0.64385204 0.6265525  0.62987933\n",
      " 0.62078605 0.62854865 0.61635028 0.60991836 0.59350603 0.57820263\n",
      " 0.63054473 0.62987933 0.63143187 0.62327008 0.63152061 0.61213625\n",
      " 0.63560151 0.64136802 0.65188078 0.69570621 0.68931869 0.67556777\n",
      " 0.69761356 0.71247341 0.69020583 0.70306954 0.70488822 0.72001421\n",
      " 0.74272533 0.73984211 0.73540634 0.73598301 0.73757982 0.75811746\n",
      " 0.75283888 0.77843329 0.80207596 0.83170687 0.77998584 0.79386976\n",
      " 0.78619589 0.798483   0.78184886 0.80660046 0.78805891 0.81161284\n",
      " 0.82168205 0.82274666 0.83303762 0.85361958 0.97893009 0.95209374\n",
      " 0.92011181 0.99370128 0.99334634 1.         0.98376507 0.9555979\n",
      " 1.00703967 0.99912131 0.99548519 0.99425101 0.99449581 0.99612981\n",
      " 0.99942845 1.00472951 1.01230168 1.02230251]\n",
      "10day output [[1.0347744]]\n",
      "11day input [0.606148   0.64473919 0.66026438 0.6660309  0.67445883 0.68865328\n",
      " 0.66736164 0.6505057  0.6422995  0.63675479 0.65449787 0.67290635\n",
      " 0.64673527 0.63320616 0.6345369  0.64961856 0.67401529 0.67201914\n",
      " 0.68222143 0.69020583 0.68333037 0.66447835 0.68222143 0.68133429\n",
      " 0.70817071 0.67712032 0.64606993 0.66691804 0.68111249 0.67956001\n",
      " 0.65405433 0.63808553 0.64385204 0.6265525  0.62987933 0.62078605\n",
      " 0.62854865 0.61635028 0.60991836 0.59350603 0.57820263 0.63054473\n",
      " 0.62987933 0.63143187 0.62327008 0.63152061 0.61213625 0.63560151\n",
      " 0.64136802 0.65188078 0.69570621 0.68931869 0.67556777 0.69761356\n",
      " 0.71247341 0.69020583 0.70306954 0.70488822 0.72001421 0.74272533\n",
      " 0.73984211 0.73540634 0.73598301 0.73757982 0.75811746 0.75283888\n",
      " 0.77843329 0.80207596 0.83170687 0.77998584 0.79386976 0.78619589\n",
      " 0.798483   0.78184886 0.80660046 0.78805891 0.81161284 0.82168205\n",
      " 0.82274666 0.83303762 0.85361958 0.97893009 0.95209374 0.92011181\n",
      " 0.99370128 0.99334634 1.         0.98376507 0.9555979  1.00703967\n",
      " 0.99912131 0.99548519 0.99425101 0.99449581 0.99612981 0.99942845\n",
      " 1.00472951 1.01230168 1.02230251 1.03477442]\n",
      "11day output [[1.0496502]]\n",
      "12day input [0.64473919 0.66026438 0.6660309  0.67445883 0.68865328 0.66736164\n",
      " 0.6505057  0.6422995  0.63675479 0.65449787 0.67290635 0.64673527\n",
      " 0.63320616 0.6345369  0.64961856 0.67401529 0.67201914 0.68222143\n",
      " 0.69020583 0.68333037 0.66447835 0.68222143 0.68133429 0.70817071\n",
      " 0.67712032 0.64606993 0.66691804 0.68111249 0.67956001 0.65405433\n",
      " 0.63808553 0.64385204 0.6265525  0.62987933 0.62078605 0.62854865\n",
      " 0.61635028 0.60991836 0.59350603 0.57820263 0.63054473 0.62987933\n",
      " 0.63143187 0.62327008 0.63152061 0.61213625 0.63560151 0.64136802\n",
      " 0.65188078 0.69570621 0.68931869 0.67556777 0.69761356 0.71247341\n",
      " 0.69020583 0.70306954 0.70488822 0.72001421 0.74272533 0.73984211\n",
      " 0.73540634 0.73598301 0.73757982 0.75811746 0.75283888 0.77843329\n",
      " 0.80207596 0.83170687 0.77998584 0.79386976 0.78619589 0.798483\n",
      " 0.78184886 0.80660046 0.78805891 0.81161284 0.82168205 0.82274666\n",
      " 0.83303762 0.85361958 0.97893009 0.95209374 0.92011181 0.99370128\n",
      " 0.99334634 1.         0.98376507 0.9555979  1.00703967 0.99912131\n",
      " 0.99548519 0.99425101 0.99449581 0.99612981 0.99942845 1.00472951\n",
      " 1.01230168 1.02230251 1.03477442 1.04965019]\n",
      "12day output [[1.0667651]]\n",
      "13day input [0.66026438 0.6660309  0.67445883 0.68865328 0.66736164 0.6505057\n",
      " 0.6422995  0.63675479 0.65449787 0.67290635 0.64673527 0.63320616\n",
      " 0.6345369  0.64961856 0.67401529 0.67201914 0.68222143 0.69020583\n",
      " 0.68333037 0.66447835 0.68222143 0.68133429 0.70817071 0.67712032\n",
      " 0.64606993 0.66691804 0.68111249 0.67956001 0.65405433 0.63808553\n",
      " 0.64385204 0.6265525  0.62987933 0.62078605 0.62854865 0.61635028\n",
      " 0.60991836 0.59350603 0.57820263 0.63054473 0.62987933 0.63143187\n",
      " 0.62327008 0.63152061 0.61213625 0.63560151 0.64136802 0.65188078\n",
      " 0.69570621 0.68931869 0.67556777 0.69761356 0.71247341 0.69020583\n",
      " 0.70306954 0.70488822 0.72001421 0.74272533 0.73984211 0.73540634\n",
      " 0.73598301 0.73757982 0.75811746 0.75283888 0.77843329 0.80207596\n",
      " 0.83170687 0.77998584 0.79386976 0.78619589 0.798483   0.78184886\n",
      " 0.80660046 0.78805891 0.81161284 0.82168205 0.82274666 0.83303762\n",
      " 0.85361958 0.97893009 0.95209374 0.92011181 0.99370128 0.99334634\n",
      " 1.         0.98376507 0.9555979  1.00703967 0.99912131 0.99548519\n",
      " 0.99425101 0.99449581 0.99612981 0.99942845 1.00472951 1.01230168\n",
      " 1.02230251 1.03477442 1.04965019 1.06676507]\n",
      "13day output [[1.0858656]]\n",
      "14day input [0.6660309  0.67445883 0.68865328 0.66736164 0.6505057  0.6422995\n",
      " 0.63675479 0.65449787 0.67290635 0.64673527 0.63320616 0.6345369\n",
      " 0.64961856 0.67401529 0.67201914 0.68222143 0.69020583 0.68333037\n",
      " 0.66447835 0.68222143 0.68133429 0.70817071 0.67712032 0.64606993\n",
      " 0.66691804 0.68111249 0.67956001 0.65405433 0.63808553 0.64385204\n",
      " 0.6265525  0.62987933 0.62078605 0.62854865 0.61635028 0.60991836\n",
      " 0.59350603 0.57820263 0.63054473 0.62987933 0.63143187 0.62327008\n",
      " 0.63152061 0.61213625 0.63560151 0.64136802 0.65188078 0.69570621\n",
      " 0.68931869 0.67556777 0.69761356 0.71247341 0.69020583 0.70306954\n",
      " 0.70488822 0.72001421 0.74272533 0.73984211 0.73540634 0.73598301\n",
      " 0.73757982 0.75811746 0.75283888 0.77843329 0.80207596 0.83170687\n",
      " 0.77998584 0.79386976 0.78619589 0.798483   0.78184886 0.80660046\n",
      " 0.78805891 0.81161284 0.82168205 0.82274666 0.83303762 0.85361958\n",
      " 0.97893009 0.95209374 0.92011181 0.99370128 0.99334634 1.\n",
      " 0.98376507 0.9555979  1.00703967 0.99912131 0.99548519 0.99425101\n",
      " 0.99449581 0.99612981 0.99942845 1.00472951 1.01230168 1.02230251\n",
      " 1.03477442 1.04965019 1.06676507 1.08586562]\n",
      "14day output [[1.106623]]\n",
      "15day input [0.67445883 0.68865328 0.66736164 0.6505057  0.6422995  0.63675479\n",
      " 0.65449787 0.67290635 0.64673527 0.63320616 0.6345369  0.64961856\n",
      " 0.67401529 0.67201914 0.68222143 0.69020583 0.68333037 0.66447835\n",
      " 0.68222143 0.68133429 0.70817071 0.67712032 0.64606993 0.66691804\n",
      " 0.68111249 0.67956001 0.65405433 0.63808553 0.64385204 0.6265525\n",
      " 0.62987933 0.62078605 0.62854865 0.61635028 0.60991836 0.59350603\n",
      " 0.57820263 0.63054473 0.62987933 0.63143187 0.62327008 0.63152061\n",
      " 0.61213625 0.63560151 0.64136802 0.65188078 0.69570621 0.68931869\n",
      " 0.67556777 0.69761356 0.71247341 0.69020583 0.70306954 0.70488822\n",
      " 0.72001421 0.74272533 0.73984211 0.73540634 0.73598301 0.73757982\n",
      " 0.75811746 0.75283888 0.77843329 0.80207596 0.83170687 0.77998584\n",
      " 0.79386976 0.78619589 0.798483   0.78184886 0.80660046 0.78805891\n",
      " 0.81161284 0.82168205 0.82274666 0.83303762 0.85361958 0.97893009\n",
      " 0.95209374 0.92011181 0.99370128 0.99334634 1.         0.98376507\n",
      " 0.9555979  1.00703967 0.99912131 0.99548519 0.99425101 0.99449581\n",
      " 0.99612981 0.99942845 1.00472951 1.01230168 1.02230251 1.03477442\n",
      " 1.04965019 1.06676507 1.08586562 1.10662305]\n",
      "15day output [[1.1286485]]\n",
      "16day input [0.68865328 0.66736164 0.6505057  0.6422995  0.63675479 0.65449787\n",
      " 0.67290635 0.64673527 0.63320616 0.6345369  0.64961856 0.67401529\n",
      " 0.67201914 0.68222143 0.69020583 0.68333037 0.66447835 0.68222143\n",
      " 0.68133429 0.70817071 0.67712032 0.64606993 0.66691804 0.68111249\n",
      " 0.67956001 0.65405433 0.63808553 0.64385204 0.6265525  0.62987933\n",
      " 0.62078605 0.62854865 0.61635028 0.60991836 0.59350603 0.57820263\n",
      " 0.63054473 0.62987933 0.63143187 0.62327008 0.63152061 0.61213625\n",
      " 0.63560151 0.64136802 0.65188078 0.69570621 0.68931869 0.67556777\n",
      " 0.69761356 0.71247341 0.69020583 0.70306954 0.70488822 0.72001421\n",
      " 0.74272533 0.73984211 0.73540634 0.73598301 0.73757982 0.75811746\n",
      " 0.75283888 0.77843329 0.80207596 0.83170687 0.77998584 0.79386976\n",
      " 0.78619589 0.798483   0.78184886 0.80660046 0.78805891 0.81161284\n",
      " 0.82168205 0.82274666 0.83303762 0.85361958 0.97893009 0.95209374\n",
      " 0.92011181 0.99370128 0.99334634 1.         0.98376507 0.9555979\n",
      " 1.00703967 0.99912131 0.99548519 0.99425101 0.99449581 0.99612981\n",
      " 0.99942845 1.00472951 1.01230168 1.02230251 1.03477442 1.04965019\n",
      " 1.06676507 1.08586562 1.10662305 1.12864852]\n",
      "16day output [[1.151509]]\n",
      "17day input [0.66736164 0.6505057  0.6422995  0.63675479 0.65449787 0.67290635\n",
      " 0.64673527 0.63320616 0.6345369  0.64961856 0.67401529 0.67201914\n",
      " 0.68222143 0.69020583 0.68333037 0.66447835 0.68222143 0.68133429\n",
      " 0.70817071 0.67712032 0.64606993 0.66691804 0.68111249 0.67956001\n",
      " 0.65405433 0.63808553 0.64385204 0.6265525  0.62987933 0.62078605\n",
      " 0.62854865 0.61635028 0.60991836 0.59350603 0.57820263 0.63054473\n",
      " 0.62987933 0.63143187 0.62327008 0.63152061 0.61213625 0.63560151\n",
      " 0.64136802 0.65188078 0.69570621 0.68931869 0.67556777 0.69761356\n",
      " 0.71247341 0.69020583 0.70306954 0.70488822 0.72001421 0.74272533\n",
      " 0.73984211 0.73540634 0.73598301 0.73757982 0.75811746 0.75283888\n",
      " 0.77843329 0.80207596 0.83170687 0.77998584 0.79386976 0.78619589\n",
      " 0.798483   0.78184886 0.80660046 0.78805891 0.81161284 0.82168205\n",
      " 0.82274666 0.83303762 0.85361958 0.97893009 0.95209374 0.92011181\n",
      " 0.99370128 0.99334634 1.         0.98376507 0.9555979  1.00703967\n",
      " 0.99912131 0.99548519 0.99425101 0.99449581 0.99612981 0.99942845\n",
      " 1.00472951 1.01230168 1.02230251 1.03477442 1.04965019 1.06676507\n",
      " 1.08586562 1.10662305 1.12864852 1.15150905]\n",
      "17day output [[1.1747478]]\n",
      "18day input [0.6505057  0.6422995  0.63675479 0.65449787 0.67290635 0.64673527\n",
      " 0.63320616 0.6345369  0.64961856 0.67401529 0.67201914 0.68222143\n",
      " 0.69020583 0.68333037 0.66447835 0.68222143 0.68133429 0.70817071\n",
      " 0.67712032 0.64606993 0.66691804 0.68111249 0.67956001 0.65405433\n",
      " 0.63808553 0.64385204 0.6265525  0.62987933 0.62078605 0.62854865\n",
      " 0.61635028 0.60991836 0.59350603 0.57820263 0.63054473 0.62987933\n",
      " 0.63143187 0.62327008 0.63152061 0.61213625 0.63560151 0.64136802\n",
      " 0.65188078 0.69570621 0.68931869 0.67556777 0.69761356 0.71247341\n",
      " 0.69020583 0.70306954 0.70488822 0.72001421 0.74272533 0.73984211\n",
      " 0.73540634 0.73598301 0.73757982 0.75811746 0.75283888 0.77843329\n",
      " 0.80207596 0.83170687 0.77998584 0.79386976 0.78619589 0.798483\n",
      " 0.78184886 0.80660046 0.78805891 0.81161284 0.82168205 0.82274666\n",
      " 0.83303762 0.85361958 0.97893009 0.95209374 0.92011181 0.99370128\n",
      " 0.99334634 1.         0.98376507 0.9555979  1.00703967 0.99912131\n",
      " 0.99548519 0.99425101 0.99449581 0.99612981 0.99942845 1.00472951\n",
      " 1.01230168 1.02230251 1.03477442 1.04965019 1.06676507 1.08586562\n",
      " 1.10662305 1.12864852 1.15150905 1.17474782]\n",
      "18day output [[1.1979071]]\n",
      "19day input [0.6422995  0.63675479 0.65449787 0.67290635 0.64673527 0.63320616\n",
      " 0.6345369  0.64961856 0.67401529 0.67201914 0.68222143 0.69020583\n",
      " 0.68333037 0.66447835 0.68222143 0.68133429 0.70817071 0.67712032\n",
      " 0.64606993 0.66691804 0.68111249 0.67956001 0.65405433 0.63808553\n",
      " 0.64385204 0.6265525  0.62987933 0.62078605 0.62854865 0.61635028\n",
      " 0.60991836 0.59350603 0.57820263 0.63054473 0.62987933 0.63143187\n",
      " 0.62327008 0.63152061 0.61213625 0.63560151 0.64136802 0.65188078\n",
      " 0.69570621 0.68931869 0.67556777 0.69761356 0.71247341 0.69020583\n",
      " 0.70306954 0.70488822 0.72001421 0.74272533 0.73984211 0.73540634\n",
      " 0.73598301 0.73757982 0.75811746 0.75283888 0.77843329 0.80207596\n",
      " 0.83170687 0.77998584 0.79386976 0.78619589 0.798483   0.78184886\n",
      " 0.80660046 0.78805891 0.81161284 0.82168205 0.82274666 0.83303762\n",
      " 0.85361958 0.97893009 0.95209374 0.92011181 0.99370128 0.99334634\n",
      " 1.         0.98376507 0.9555979  1.00703967 0.99912131 0.99548519\n",
      " 0.99425101 0.99449581 0.99612981 0.99942845 1.00472951 1.01230168\n",
      " 1.02230251 1.03477442 1.04965019 1.06676507 1.08586562 1.10662305\n",
      " 1.12864852 1.15150905 1.17474782 1.19790709]\n",
      "19day output [[1.2205505]]\n",
      "20day input [0.63675479 0.65449787 0.67290635 0.64673527 0.63320616 0.6345369\n",
      " 0.64961856 0.67401529 0.67201914 0.68222143 0.69020583 0.68333037\n",
      " 0.66447835 0.68222143 0.68133429 0.70817071 0.67712032 0.64606993\n",
      " 0.66691804 0.68111249 0.67956001 0.65405433 0.63808553 0.64385204\n",
      " 0.6265525  0.62987933 0.62078605 0.62854865 0.61635028 0.60991836\n",
      " 0.59350603 0.57820263 0.63054473 0.62987933 0.63143187 0.62327008\n",
      " 0.63152061 0.61213625 0.63560151 0.64136802 0.65188078 0.69570621\n",
      " 0.68931869 0.67556777 0.69761356 0.71247341 0.69020583 0.70306954\n",
      " 0.70488822 0.72001421 0.74272533 0.73984211 0.73540634 0.73598301\n",
      " 0.73757982 0.75811746 0.75283888 0.77843329 0.80207596 0.83170687\n",
      " 0.77998584 0.79386976 0.78619589 0.798483   0.78184886 0.80660046\n",
      " 0.78805891 0.81161284 0.82168205 0.82274666 0.83303762 0.85361958\n",
      " 0.97893009 0.95209374 0.92011181 0.99370128 0.99334634 1.\n",
      " 0.98376507 0.9555979  1.00703967 0.99912131 0.99548519 0.99425101\n",
      " 0.99449581 0.99612981 0.99942845 1.00472951 1.01230168 1.02230251\n",
      " 1.03477442 1.04965019 1.06676507 1.08586562 1.10662305 1.12864852\n",
      " 1.15150905 1.17474782 1.19790709 1.22055054]\n",
      "20day output [[1.2422897]]\n",
      "21day input [0.65449787 0.67290635 0.64673527 0.63320616 0.6345369  0.64961856\n",
      " 0.67401529 0.67201914 0.68222143 0.69020583 0.68333037 0.66447835\n",
      " 0.68222143 0.68133429 0.70817071 0.67712032 0.64606993 0.66691804\n",
      " 0.68111249 0.67956001 0.65405433 0.63808553 0.64385204 0.6265525\n",
      " 0.62987933 0.62078605 0.62854865 0.61635028 0.60991836 0.59350603\n",
      " 0.57820263 0.63054473 0.62987933 0.63143187 0.62327008 0.63152061\n",
      " 0.61213625 0.63560151 0.64136802 0.65188078 0.69570621 0.68931869\n",
      " 0.67556777 0.69761356 0.71247341 0.69020583 0.70306954 0.70488822\n",
      " 0.72001421 0.74272533 0.73984211 0.73540634 0.73598301 0.73757982\n",
      " 0.75811746 0.75283888 0.77843329 0.80207596 0.83170687 0.77998584\n",
      " 0.79386976 0.78619589 0.798483   0.78184886 0.80660046 0.78805891\n",
      " 0.81161284 0.82168205 0.82274666 0.83303762 0.85361958 0.97893009\n",
      " 0.95209374 0.92011181 0.99370128 0.99334634 1.         0.98376507\n",
      " 0.9555979  1.00703967 0.99912131 0.99548519 0.99425101 0.99449581\n",
      " 0.99612981 0.99942845 1.00472951 1.01230168 1.02230251 1.03477442\n",
      " 1.04965019 1.06676507 1.08586562 1.10662305 1.12864852 1.15150905\n",
      " 1.17474782 1.19790709 1.22055054 1.24228966]\n",
      "21day output [[1.2628058]]\n",
      "22day input [0.67290635 0.64673527 0.63320616 0.6345369  0.64961856 0.67401529\n",
      " 0.67201914 0.68222143 0.69020583 0.68333037 0.66447835 0.68222143\n",
      " 0.68133429 0.70817071 0.67712032 0.64606993 0.66691804 0.68111249\n",
      " 0.67956001 0.65405433 0.63808553 0.64385204 0.6265525  0.62987933\n",
      " 0.62078605 0.62854865 0.61635028 0.60991836 0.59350603 0.57820263\n",
      " 0.63054473 0.62987933 0.63143187 0.62327008 0.63152061 0.61213625\n",
      " 0.63560151 0.64136802 0.65188078 0.69570621 0.68931869 0.67556777\n",
      " 0.69761356 0.71247341 0.69020583 0.70306954 0.70488822 0.72001421\n",
      " 0.74272533 0.73984211 0.73540634 0.73598301 0.73757982 0.75811746\n",
      " 0.75283888 0.77843329 0.80207596 0.83170687 0.77998584 0.79386976\n",
      " 0.78619589 0.798483   0.78184886 0.80660046 0.78805891 0.81161284\n",
      " 0.82168205 0.82274666 0.83303762 0.85361958 0.97893009 0.95209374\n",
      " 0.92011181 0.99370128 0.99334634 1.         0.98376507 0.9555979\n",
      " 1.00703967 0.99912131 0.99548519 0.99425101 0.99449581 0.99612981\n",
      " 0.99942845 1.00472951 1.01230168 1.02230251 1.03477442 1.04965019\n",
      " 1.06676507 1.08586562 1.10662305 1.12864852 1.15150905 1.17474782\n",
      " 1.19790709 1.22055054 1.24228966 1.26280582]\n",
      "22day output [[1.2818699]]\n",
      "23day input [0.64673527 0.63320616 0.6345369  0.64961856 0.67401529 0.67201914\n",
      " 0.68222143 0.69020583 0.68333037 0.66447835 0.68222143 0.68133429\n",
      " 0.70817071 0.67712032 0.64606993 0.66691804 0.68111249 0.67956001\n",
      " 0.65405433 0.63808553 0.64385204 0.6265525  0.62987933 0.62078605\n",
      " 0.62854865 0.61635028 0.60991836 0.59350603 0.57820263 0.63054473\n",
      " 0.62987933 0.63143187 0.62327008 0.63152061 0.61213625 0.63560151\n",
      " 0.64136802 0.65188078 0.69570621 0.68931869 0.67556777 0.69761356\n",
      " 0.71247341 0.69020583 0.70306954 0.70488822 0.72001421 0.74272533\n",
      " 0.73984211 0.73540634 0.73598301 0.73757982 0.75811746 0.75283888\n",
      " 0.77843329 0.80207596 0.83170687 0.77998584 0.79386976 0.78619589\n",
      " 0.798483   0.78184886 0.80660046 0.78805891 0.81161284 0.82168205\n",
      " 0.82274666 0.83303762 0.85361958 0.97893009 0.95209374 0.92011181\n",
      " 0.99370128 0.99334634 1.         0.98376507 0.9555979  1.00703967\n",
      " 0.99912131 0.99548519 0.99425101 0.99449581 0.99612981 0.99942845\n",
      " 1.00472951 1.01230168 1.02230251 1.03477442 1.04965019 1.06676507\n",
      " 1.08586562 1.10662305 1.12864852 1.15150905 1.17474782 1.19790709\n",
      " 1.22055054 1.24228966 1.26280582 1.28186989]\n",
      "23day output [[1.2993554]]\n",
      "24day input [0.63320616 0.6345369  0.64961856 0.67401529 0.67201914 0.68222143\n",
      " 0.69020583 0.68333037 0.66447835 0.68222143 0.68133429 0.70817071\n",
      " 0.67712032 0.64606993 0.66691804 0.68111249 0.67956001 0.65405433\n",
      " 0.63808553 0.64385204 0.6265525  0.62987933 0.62078605 0.62854865\n",
      " 0.61635028 0.60991836 0.59350603 0.57820263 0.63054473 0.62987933\n",
      " 0.63143187 0.62327008 0.63152061 0.61213625 0.63560151 0.64136802\n",
      " 0.65188078 0.69570621 0.68931869 0.67556777 0.69761356 0.71247341\n",
      " 0.69020583 0.70306954 0.70488822 0.72001421 0.74272533 0.73984211\n",
      " 0.73540634 0.73598301 0.73757982 0.75811746 0.75283888 0.77843329\n",
      " 0.80207596 0.83170687 0.77998584 0.79386976 0.78619589 0.798483\n",
      " 0.78184886 0.80660046 0.78805891 0.81161284 0.82168205 0.82274666\n",
      " 0.83303762 0.85361958 0.97893009 0.95209374 0.92011181 0.99370128\n",
      " 0.99334634 1.         0.98376507 0.9555979  1.00703967 0.99912131\n",
      " 0.99548519 0.99425101 0.99449581 0.99612981 0.99942845 1.00472951\n",
      " 1.01230168 1.02230251 1.03477442 1.04965019 1.06676507 1.08586562\n",
      " 1.10662305 1.12864852 1.15150905 1.17474782 1.19790709 1.22055054\n",
      " 1.24228966 1.26280582 1.28186989 1.29935539]\n",
      "24day output [[1.3152479]]\n",
      "25day input [0.6345369  0.64961856 0.67401529 0.67201914 0.68222143 0.69020583\n",
      " 0.68333037 0.66447835 0.68222143 0.68133429 0.70817071 0.67712032\n",
      " 0.64606993 0.66691804 0.68111249 0.67956001 0.65405433 0.63808553\n",
      " 0.64385204 0.6265525  0.62987933 0.62078605 0.62854865 0.61635028\n",
      " 0.60991836 0.59350603 0.57820263 0.63054473 0.62987933 0.63143187\n",
      " 0.62327008 0.63152061 0.61213625 0.63560151 0.64136802 0.65188078\n",
      " 0.69570621 0.68931869 0.67556777 0.69761356 0.71247341 0.69020583\n",
      " 0.70306954 0.70488822 0.72001421 0.74272533 0.73984211 0.73540634\n",
      " 0.73598301 0.73757982 0.75811746 0.75283888 0.77843329 0.80207596\n",
      " 0.83170687 0.77998584 0.79386976 0.78619589 0.798483   0.78184886\n",
      " 0.80660046 0.78805891 0.81161284 0.82168205 0.82274666 0.83303762\n",
      " 0.85361958 0.97893009 0.95209374 0.92011181 0.99370128 0.99334634\n",
      " 1.         0.98376507 0.9555979  1.00703967 0.99912131 0.99548519\n",
      " 0.99425101 0.99449581 0.99612981 0.99942845 1.00472951 1.01230168\n",
      " 1.02230251 1.03477442 1.04965019 1.06676507 1.08586562 1.10662305\n",
      " 1.12864852 1.15150905 1.17474782 1.19790709 1.22055054 1.24228966\n",
      " 1.26280582 1.28186989 1.29935539 1.31524789]\n",
      "25day output [[1.3296417]]\n",
      "26day input [0.64961856 0.67401529 0.67201914 0.68222143 0.69020583 0.68333037\n",
      " 0.66447835 0.68222143 0.68133429 0.70817071 0.67712032 0.64606993\n",
      " 0.66691804 0.68111249 0.67956001 0.65405433 0.63808553 0.64385204\n",
      " 0.6265525  0.62987933 0.62078605 0.62854865 0.61635028 0.60991836\n",
      " 0.59350603 0.57820263 0.63054473 0.62987933 0.63143187 0.62327008\n",
      " 0.63152061 0.61213625 0.63560151 0.64136802 0.65188078 0.69570621\n",
      " 0.68931869 0.67556777 0.69761356 0.71247341 0.69020583 0.70306954\n",
      " 0.70488822 0.72001421 0.74272533 0.73984211 0.73540634 0.73598301\n",
      " 0.73757982 0.75811746 0.75283888 0.77843329 0.80207596 0.83170687\n",
      " 0.77998584 0.79386976 0.78619589 0.798483   0.78184886 0.80660046\n",
      " 0.78805891 0.81161284 0.82168205 0.82274666 0.83303762 0.85361958\n",
      " 0.97893009 0.95209374 0.92011181 0.99370128 0.99334634 1.\n",
      " 0.98376507 0.9555979  1.00703967 0.99912131 0.99548519 0.99425101\n",
      " 0.99449581 0.99612981 0.99942845 1.00472951 1.01230168 1.02230251\n",
      " 1.03477442 1.04965019 1.06676507 1.08586562 1.10662305 1.12864852\n",
      " 1.15150905 1.17474782 1.19790709 1.22055054 1.24228966 1.26280582\n",
      " 1.28186989 1.29935539 1.31524789 1.3296417 ]\n",
      "26day output [[1.3427327]]\n",
      "27day input [0.67401529 0.67201914 0.68222143 0.69020583 0.68333037 0.66447835\n",
      " 0.68222143 0.68133429 0.70817071 0.67712032 0.64606993 0.66691804\n",
      " 0.68111249 0.67956001 0.65405433 0.63808553 0.64385204 0.6265525\n",
      " 0.62987933 0.62078605 0.62854865 0.61635028 0.60991836 0.59350603\n",
      " 0.57820263 0.63054473 0.62987933 0.63143187 0.62327008 0.63152061\n",
      " 0.61213625 0.63560151 0.64136802 0.65188078 0.69570621 0.68931869\n",
      " 0.67556777 0.69761356 0.71247341 0.69020583 0.70306954 0.70488822\n",
      " 0.72001421 0.74272533 0.73984211 0.73540634 0.73598301 0.73757982\n",
      " 0.75811746 0.75283888 0.77843329 0.80207596 0.83170687 0.77998584\n",
      " 0.79386976 0.78619589 0.798483   0.78184886 0.80660046 0.78805891\n",
      " 0.81161284 0.82168205 0.82274666 0.83303762 0.85361958 0.97893009\n",
      " 0.95209374 0.92011181 0.99370128 0.99334634 1.         0.98376507\n",
      " 0.9555979  1.00703967 0.99912131 0.99548519 0.99425101 0.99449581\n",
      " 0.99612981 0.99942845 1.00472951 1.01230168 1.02230251 1.03477442\n",
      " 1.04965019 1.06676507 1.08586562 1.10662305 1.12864852 1.15150905\n",
      " 1.17474782 1.19790709 1.22055054 1.24228966 1.26280582 1.28186989\n",
      " 1.29935539 1.31524789 1.3296417  1.34273267]\n",
      "27day output [[1.3548048]]\n",
      "28day input [0.67201914 0.68222143 0.69020583 0.68333037 0.66447835 0.68222143\n",
      " 0.68133429 0.70817071 0.67712032 0.64606993 0.66691804 0.68111249\n",
      " 0.67956001 0.65405433 0.63808553 0.64385204 0.6265525  0.62987933\n",
      " 0.62078605 0.62854865 0.61635028 0.60991836 0.59350603 0.57820263\n",
      " 0.63054473 0.62987933 0.63143187 0.62327008 0.63152061 0.61213625\n",
      " 0.63560151 0.64136802 0.65188078 0.69570621 0.68931869 0.67556777\n",
      " 0.69761356 0.71247341 0.69020583 0.70306954 0.70488822 0.72001421\n",
      " 0.74272533 0.73984211 0.73540634 0.73598301 0.73757982 0.75811746\n",
      " 0.75283888 0.77843329 0.80207596 0.83170687 0.77998584 0.79386976\n",
      " 0.78619589 0.798483   0.78184886 0.80660046 0.78805891 0.81161284\n",
      " 0.82168205 0.82274666 0.83303762 0.85361958 0.97893009 0.95209374\n",
      " 0.92011181 0.99370128 0.99334634 1.         0.98376507 0.9555979\n",
      " 1.00703967 0.99912131 0.99548519 0.99425101 0.99449581 0.99612981\n",
      " 0.99942845 1.00472951 1.01230168 1.02230251 1.03477442 1.04965019\n",
      " 1.06676507 1.08586562 1.10662305 1.12864852 1.15150905 1.17474782\n",
      " 1.19790709 1.22055054 1.24228966 1.26280582 1.28186989 1.29935539\n",
      " 1.31524789 1.3296417  1.34273267 1.35480475]\n",
      "28day output [[1.3662049]]\n",
      "29day input [0.68222143 0.69020583 0.68333037 0.66447835 0.68222143 0.68133429\n",
      " 0.70817071 0.67712032 0.64606993 0.66691804 0.68111249 0.67956001\n",
      " 0.65405433 0.63808553 0.64385204 0.6265525  0.62987933 0.62078605\n",
      " 0.62854865 0.61635028 0.60991836 0.59350603 0.57820263 0.63054473\n",
      " 0.62987933 0.63143187 0.62327008 0.63152061 0.61213625 0.63560151\n",
      " 0.64136802 0.65188078 0.69570621 0.68931869 0.67556777 0.69761356\n",
      " 0.71247341 0.69020583 0.70306954 0.70488822 0.72001421 0.74272533\n",
      " 0.73984211 0.73540634 0.73598301 0.73757982 0.75811746 0.75283888\n",
      " 0.77843329 0.80207596 0.83170687 0.77998584 0.79386976 0.78619589\n",
      " 0.798483   0.78184886 0.80660046 0.78805891 0.81161284 0.82168205\n",
      " 0.82274666 0.83303762 0.85361958 0.97893009 0.95209374 0.92011181\n",
      " 0.99370128 0.99334634 1.         0.98376507 0.9555979  1.00703967\n",
      " 0.99912131 0.99548519 0.99425101 0.99449581 0.99612981 0.99942845\n",
      " 1.00472951 1.01230168 1.02230251 1.03477442 1.04965019 1.06676507\n",
      " 1.08586562 1.10662305 1.12864852 1.15150905 1.17474782 1.19790709\n",
      " 1.22055054 1.24228966 1.26280582 1.28186989 1.29935539 1.31524789\n",
      " 1.3296417  1.34273267 1.35480475 1.36620486]\n",
      "29day output [[1.3773228]]\n",
      "[[1.0070396661758423], [0.9991213083267212], [0.9954851865768433], [0.994251012802124], [0.9944958090782166], [0.9961298108100891], [0.9994284510612488], [1.0047295093536377], [1.0123016834259033], [1.022302508354187], [1.0347744226455688], [1.0496501922607422], [1.0667650699615479], [1.0858656167984009], [1.1066230535507202], [1.1286485195159912], [1.1515090465545654], [1.1747478246688843], [1.1979070901870728], [1.220550537109375], [1.242289662361145], [1.2628058195114136], [1.281869888305664], [1.299355387687683], [1.315247893333435], [1.3296416997909546], [1.3427326679229736], [1.3548047542572021], [1.366204857826233], [1.377322793006897]]\n"
     ]
    }
   ],
   "source": [
    "#demonstrate prediction for next 30 days\n",
    "from numpy import array\n",
    "\n",
    "lst_output=[]\n",
    "n_steps=100\n",
    "i=0\n",
    "while (i<30):\n",
    "    if (len(temp_input)>100):\n",
    "        x_input=np.array(temp_input[1:])\n",
    "        print(\"{}day input {}\".format(i,x_input))\n",
    "        x_input=x_input.reshape(1,-1)\n",
    "        x_input=x_input.reshape((1,n_steps,1))\n",
    "        yhat=model.predict(x_input,verbose=0)\n",
    "        print(\"{}day output {}\".format(i,yhat))\n",
    "        temp_input.extend(yhat[0].tolist())\n",
    "        temp_input=temp_input[1:]\n",
    "        lst_output.extend(yhat.tolist())\n",
    "        i=i+1\n",
    "    else:\n",
    "        x_input=x_input.reshape((1,n_steps,1))\n",
    "        yhat=model.predict(x_input,verbose=0)\n",
    "        print(yhat[0])\n",
    "        temp_input.extend(yhat[0].tolist())\n",
    "        print(len(temp_input))\n",
    "        lst_output.extend(yhat.tolist())\n",
    "        i=i+1\n",
    "\n",
    "print(lst_output)\n",
    "    \n",
    "\n",
    "\n"
   ]
  },
  {
   "cell_type": "code",
   "execution_count": 78,
   "id": "e21be73c-a9fc-4102-a014-b8b70922d5d0",
   "metadata": {},
   "outputs": [
    {
     "data": {
      "text/plain": [
       "755"
      ]
     },
     "execution_count": 78,
     "metadata": {},
     "output_type": "execute_result"
    }
   ],
   "source": [
    "len(dzom1)"
   ]
  },
  {
   "cell_type": "code",
   "execution_count": 75,
   "id": "b562df5d-d495-41df-8d85-af0ecede21c0",
   "metadata": {},
   "outputs": [],
   "source": [
    "day_new=np.arange(1,101)\n",
    "day_pred=np.arange(101,131)"
   ]
  },
  {
   "cell_type": "code",
   "execution_count": 76,
   "id": "33c9de0d-d2a5-4b9d-a250-0d002ef6365b",
   "metadata": {},
   "outputs": [],
   "source": [
    "import matplotlib.pyplot as plt\n"
   ]
  },
  {
   "cell_type": "code",
   "execution_count": 77,
   "id": "32f0ae8e-afe3-45fa-92e5-287a35eb952f",
   "metadata": {},
   "outputs": [],
   "source": [
    "dzom3=dzom1.tolist()\n",
    "dzom3.extend(lst_output)"
   ]
  },
  {
   "cell_type": "code",
   "execution_count": 80,
   "id": "5862205d-4404-4c83-bc5f-9d9dde890859",
   "metadata": {},
   "outputs": [
    {
     "data": {
      "text/plain": [
       "[<matplotlib.lines.Line2D at 0x23db09c3e90>]"
      ]
     },
     "execution_count": 80,
     "metadata": {},
     "output_type": "execute_result"
    },
    {
     "data": {
      "image/png": "[encoded data removed]",
      "text/plain": [
       "<Figure size 640x480 with 1 Axes>"
      ]
     },
     "metadata": {},
     "output_type": "display_data"
    }
   ],
   "source": [
    "plt.plot(day_new,scaler.inverse_transform(dzom1[655:]))\n",
    "plt.plot(day_pred,scaler.inverse_transform(lst_output))"
   ]
  },
  {
   "cell_type": "code",
   "execution_count": null,
   "id": "0ed45066-7342-4065-9a4b-47014173dc17",
   "metadata": {},
   "outputs": [],
   "source": []
  }
 ],
 "metadata": {
  "kernelspec": {
   "display_name": "Python 3 (ipykernel)",
   "language": "python",
   "name": "python3"
  },
  "language_info": {
   "codemirror_mode": {
    "name": "ipython",
    "version": 3
   },
   "file_extension": ".py",
   "mimetype": "text/x-python",
   "name": "python",
   "nbconvert_exporter": "python",
   "pygments_lexer": "ipython3",
   "version": "3.11.7"
  }
 },
 "nbformat": 4,
 "nbformat_minor": 5
}
